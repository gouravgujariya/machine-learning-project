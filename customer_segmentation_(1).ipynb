{
  "metadata": {
    "kernelspec": {
      "language": "python",
      "display_name": "Python 3",
      "name": "python3"
    },
    "language_info": {
      "name": "python",
      "version": "3.7.12",
      "mimetype": "text/x-python",
      "codemirror_mode": {
        "name": "ipython",
        "version": 3
      },
      "pygments_lexer": "ipython3",
      "nbconvert_exporter": "python",
      "file_extension": ".py"
    },
    "colab": {
      "name": "customer-segmentation (1).ipynb",
      "provenance": [],
      "include_colab_link": true
    }
  },
  "nbformat_minor": 0,
  "nbformat": 4,
  "cells": [
    {
      "cell_type": "markdown",
      "metadata": {
        "id": "view-in-github",
        "colab_type": "text"
      },
      "source": [
        "<a href=\"https://colab.research.google.com/github/gouravgujariya/machine-learning-project/blob/main/customer_segmentation_(1).ipynb\" target=\"_parent\"><img src=\"https://colab.research.google.com/assets/colab-badge.svg\" alt=\"Open In Colab\"/></a>"
      ]
    },
    {
      "cell_type": "markdown",
      "source": [
        "#IBM ASSIGNMENT ON UNSUPERVISED LEARNING"
      ],
      "metadata": {
        "id": "ghfmdDPHoU62"
      }
    },
    {
      "cell_type": "markdown",
      "source": [
        "The grading will center around 5 main points:\n",
        "\n",
        "Does the report include a section describing the data?\n",
        "\n",
        "Does the report include a paragraph detailing the main objective(s) of this analysis?  \n",
        "\n",
        "Does the report include a section with variations of Unsupervised Learning models and specifies which one is the model that best suits the main objective(s) of this analysis?\n",
        "\n",
        "Does the report include a clear and well presented section with key findings related to the main objective(s) of the analysis?\n",
        "\n",
        "Does the report highlight possible flaws in the model and a plan of action to revisit this analysis with additional data or different modeling techniques? "
      ],
      "metadata": {
        "id": "VU1rhokc1eAl"
      }
    },
    {
      "cell_type": "markdown",
      "source": [
        "#Data describing\n",
        "this dataset is taken from kaggle .<br>\n",
        "It is used here to segment the customers on the basis of different features such as:<list><br>\n",
        "1. ID\t:id is different for every one and use to identify individual\n",
        "2. Gender:gender of customer\n",
        "3. Ever_Married:marital status of the customer\n",
        "4.\tAge:age of the customer\n",
        "5.\tGraduated\t:graduation status of the customer\n",
        "6. Profession:profession in which customer is working\n",
        "7.\tWork_Experience:working experience of the customer\n",
        "8.\tSpending_Score:spending score of the customer\n",
        "9.\tFamily_Size:family size of the customer\n",
        "10.\tVar_1:variable (external),Cat_6,Cat_4\n",
        "11.\tSegmentation:this is target variable"
      ],
      "metadata": {
        "id": "SF1a6WjH1qoF"
      }
    },
    {
      "cell_type": "markdown",
      "source": [
        "The main objective of the analysis is to segment the customers into types as A,B,C,D <br>\n",
        "based on feature which could be comman in many situations and be helpfull for preiddition"
      ],
      "metadata": {
        "id": "r4SB_-O61qkc"
      }
    },
    {
      "cell_type": "markdown",
      "source": [
        "importing dataset using pandas "
      ],
      "metadata": {
        "id": "TgD6RR9C7rE-"
      }
    },
    {
      "cell_type": "code",
      "source": [
        "import pandas as pd"
      ],
      "metadata": {
        "execution": {
          "iopub.status.busy": "2022-03-13T05:24:00.703583Z",
          "iopub.execute_input": "2022-03-13T05:24:00.703948Z",
          "iopub.status.idle": "2022-03-13T05:24:00.750573Z",
          "shell.execute_reply.started": "2022-03-13T05:24:00.703856Z",
          "shell.execute_reply": "2022-03-13T05:24:00.749658Z"
        },
        "trusted": true,
        "id": "FUmkz4JVzmm0"
      },
      "execution_count": 2,
      "outputs": []
    },
    {
      "cell_type": "code",
      "source": [
        "from google.colab import drive\n",
        "drive.mount('/content/drive')"
      ],
      "metadata": {
        "colab": {
          "base_uri": "https://localhost:8080/"
        },
        "id": "PZ8KY0SGz4B5",
        "outputId": "b5d69c51-b8f1-47c7-dc03-13e93888f3ea"
      },
      "execution_count": 2,
      "outputs": [
        {
          "output_type": "stream",
          "name": "stdout",
          "text": [
            "Drive already mounted at /content/drive; to attempt to forcibly remount, call drive.mount(\"/content/drive\", force_remount=True).\n"
          ]
        }
      ]
    },
    {
      "cell_type": "code",
      "source": [
        "dftrain=pd.read_csv('/content/drive/MyDrive/Python Scripts/kaggle/customer_segmentation/Train.csv')"
      ],
      "metadata": {
        "execution": {
          "iopub.status.busy": "2022-03-13T05:24:00.957208Z",
          "iopub.execute_input": "2022-03-13T05:24:00.957458Z",
          "iopub.status.idle": "2022-03-13T05:24:00.979669Z",
          "shell.execute_reply.started": "2022-03-13T05:24:00.957431Z",
          "shell.execute_reply": "2022-03-13T05:24:00.978816Z"
        },
        "trusted": true,
        "id": "ykS6JOQwzmm8"
      },
      "execution_count": 3,
      "outputs": []
    },
    {
      "cell_type": "code",
      "source": [
        "dftrain.head(3)"
      ],
      "metadata": {
        "execution": {
          "iopub.status.busy": "2022-03-13T05:24:03.688428Z",
          "iopub.execute_input": "2022-03-13T05:24:03.689060Z",
          "iopub.status.idle": "2022-03-13T05:24:03.712138Z",
          "shell.execute_reply.started": "2022-03-13T05:24:03.689016Z",
          "shell.execute_reply": "2022-03-13T05:24:03.711280Z"
        },
        "trusted": true,
        "colab": {
          "base_uri": "https://localhost:8080/",
          "height": 143
        },
        "id": "HZKYtOJLzmm9",
        "outputId": "6e569f58-a966-48a9-e1d7-821bf3935be3"
      },
      "execution_count": 5,
      "outputs": [
        {
          "output_type": "execute_result",
          "data": {
            "text/plain": [
              "       ID  Gender Ever_Married  Age Graduated  Profession  Work_Experience  \\\n",
              "0  462809    Male           No   22        No  Healthcare              1.0   \n",
              "1  462643  Female          Yes   38       Yes    Engineer              NaN   \n",
              "2  466315  Female          Yes   67       Yes    Engineer              1.0   \n",
              "\n",
              "  Spending_Score  Family_Size  Var_1 Segmentation  \n",
              "0            Low          4.0  Cat_4            D  \n",
              "1        Average          3.0  Cat_4            A  \n",
              "2            Low          1.0  Cat_6            B  "
            ],
            "text/html": [
              "\n",
              "  <div id=\"df-e7f11334-a047-4912-895a-41db41fedf7f\">\n",
              "    <div class=\"colab-df-container\">\n",
              "      <div>\n",
              "<style scoped>\n",
              "    .dataframe tbody tr th:only-of-type {\n",
              "        vertical-align: middle;\n",
              "    }\n",
              "\n",
              "    .dataframe tbody tr th {\n",
              "        vertical-align: top;\n",
              "    }\n",
              "\n",
              "    .dataframe thead th {\n",
              "        text-align: right;\n",
              "    }\n",
              "</style>\n",
              "<table border=\"1\" class=\"dataframe\">\n",
              "  <thead>\n",
              "    <tr style=\"text-align: right;\">\n",
              "      <th></th>\n",
              "      <th>ID</th>\n",
              "      <th>Gender</th>\n",
              "      <th>Ever_Married</th>\n",
              "      <th>Age</th>\n",
              "      <th>Graduated</th>\n",
              "      <th>Profession</th>\n",
              "      <th>Work_Experience</th>\n",
              "      <th>Spending_Score</th>\n",
              "      <th>Family_Size</th>\n",
              "      <th>Var_1</th>\n",
              "      <th>Segmentation</th>\n",
              "    </tr>\n",
              "  </thead>\n",
              "  <tbody>\n",
              "    <tr>\n",
              "      <th>0</th>\n",
              "      <td>462809</td>\n",
              "      <td>Male</td>\n",
              "      <td>No</td>\n",
              "      <td>22</td>\n",
              "      <td>No</td>\n",
              "      <td>Healthcare</td>\n",
              "      <td>1.0</td>\n",
              "      <td>Low</td>\n",
              "      <td>4.0</td>\n",
              "      <td>Cat_4</td>\n",
              "      <td>D</td>\n",
              "    </tr>\n",
              "    <tr>\n",
              "      <th>1</th>\n",
              "      <td>462643</td>\n",
              "      <td>Female</td>\n",
              "      <td>Yes</td>\n",
              "      <td>38</td>\n",
              "      <td>Yes</td>\n",
              "      <td>Engineer</td>\n",
              "      <td>NaN</td>\n",
              "      <td>Average</td>\n",
              "      <td>3.0</td>\n",
              "      <td>Cat_4</td>\n",
              "      <td>A</td>\n",
              "    </tr>\n",
              "    <tr>\n",
              "      <th>2</th>\n",
              "      <td>466315</td>\n",
              "      <td>Female</td>\n",
              "      <td>Yes</td>\n",
              "      <td>67</td>\n",
              "      <td>Yes</td>\n",
              "      <td>Engineer</td>\n",
              "      <td>1.0</td>\n",
              "      <td>Low</td>\n",
              "      <td>1.0</td>\n",
              "      <td>Cat_6</td>\n",
              "      <td>B</td>\n",
              "    </tr>\n",
              "  </tbody>\n",
              "</table>\n",
              "</div>\n",
              "      <button class=\"colab-df-convert\" onclick=\"convertToInteractive('df-e7f11334-a047-4912-895a-41db41fedf7f')\"\n",
              "              title=\"Convert this dataframe to an interactive table.\"\n",
              "              style=\"display:none;\">\n",
              "        \n",
              "  <svg xmlns=\"http://www.w3.org/2000/svg\" height=\"24px\"viewBox=\"0 0 24 24\"\n",
              "       width=\"24px\">\n",
              "    <path d=\"M0 0h24v24H0V0z\" fill=\"none\"/>\n",
              "    <path d=\"M18.56 5.44l.94 2.06.94-2.06 2.06-.94-2.06-.94-.94-2.06-.94 2.06-2.06.94zm-11 1L8.5 8.5l.94-2.06 2.06-.94-2.06-.94L8.5 2.5l-.94 2.06-2.06.94zm10 10l.94 2.06.94-2.06 2.06-.94-2.06-.94-.94-2.06-.94 2.06-2.06.94z\"/><path d=\"M17.41 7.96l-1.37-1.37c-.4-.4-.92-.59-1.43-.59-.52 0-1.04.2-1.43.59L10.3 9.45l-7.72 7.72c-.78.78-.78 2.05 0 2.83L4 21.41c.39.39.9.59 1.41.59.51 0 1.02-.2 1.41-.59l7.78-7.78 2.81-2.81c.8-.78.8-2.07 0-2.86zM5.41 20L4 18.59l7.72-7.72 1.47 1.35L5.41 20z\"/>\n",
              "  </svg>\n",
              "      </button>\n",
              "      \n",
              "  <style>\n",
              "    .colab-df-container {\n",
              "      display:flex;\n",
              "      flex-wrap:wrap;\n",
              "      gap: 12px;\n",
              "    }\n",
              "\n",
              "    .colab-df-convert {\n",
              "      background-color: #E8F0FE;\n",
              "      border: none;\n",
              "      border-radius: 50%;\n",
              "      cursor: pointer;\n",
              "      display: none;\n",
              "      fill: #1967D2;\n",
              "      height: 32px;\n",
              "      padding: 0 0 0 0;\n",
              "      width: 32px;\n",
              "    }\n",
              "\n",
              "    .colab-df-convert:hover {\n",
              "      background-color: #E2EBFA;\n",
              "      box-shadow: 0px 1px 2px rgba(60, 64, 67, 0.3), 0px 1px 3px 1px rgba(60, 64, 67, 0.15);\n",
              "      fill: #174EA6;\n",
              "    }\n",
              "\n",
              "    [theme=dark] .colab-df-convert {\n",
              "      background-color: #3B4455;\n",
              "      fill: #D2E3FC;\n",
              "    }\n",
              "\n",
              "    [theme=dark] .colab-df-convert:hover {\n",
              "      background-color: #434B5C;\n",
              "      box-shadow: 0px 1px 3px 1px rgba(0, 0, 0, 0.15);\n",
              "      filter: drop-shadow(0px 1px 2px rgba(0, 0, 0, 0.3));\n",
              "      fill: #FFFFFF;\n",
              "    }\n",
              "  </style>\n",
              "\n",
              "      <script>\n",
              "        const buttonEl =\n",
              "          document.querySelector('#df-e7f11334-a047-4912-895a-41db41fedf7f button.colab-df-convert');\n",
              "        buttonEl.style.display =\n",
              "          google.colab.kernel.accessAllowed ? 'block' : 'none';\n",
              "\n",
              "        async function convertToInteractive(key) {\n",
              "          const element = document.querySelector('#df-e7f11334-a047-4912-895a-41db41fedf7f');\n",
              "          const dataTable =\n",
              "            await google.colab.kernel.invokeFunction('convertToInteractive',\n",
              "                                                     [key], {});\n",
              "          if (!dataTable) return;\n",
              "\n",
              "          const docLinkHtml = 'Like what you see? Visit the ' +\n",
              "            '<a target=\"_blank\" href=https://colab.research.google.com/notebooks/data_table.ipynb>data table notebook</a>'\n",
              "            + ' to learn more about interactive tables.';\n",
              "          element.innerHTML = '';\n",
              "          dataTable['output_type'] = 'display_data';\n",
              "          await google.colab.output.renderOutput(dataTable, element);\n",
              "          const docLink = document.createElement('div');\n",
              "          docLink.innerHTML = docLinkHtml;\n",
              "          element.appendChild(docLink);\n",
              "        }\n",
              "      </script>\n",
              "    </div>\n",
              "  </div>\n",
              "  "
            ]
          },
          "metadata": {},
          "execution_count": 5
        }
      ]
    },
    {
      "cell_type": "markdown",
      "source": [
        "here by using info we are getting the informmationo about each columns<br>\n",
        "as we can see here some are objective columns ,some are int columns,some are float columns"
      ],
      "metadata": {
        "id": "Wibt-U4570zt"
      }
    },
    {
      "cell_type": "code",
      "source": [
        "dftrain.info()"
      ],
      "metadata": {
        "execution": {
          "iopub.status.busy": "2022-03-13T03:12:13.825156Z",
          "iopub.execute_input": "2022-03-13T03:12:13.825447Z",
          "iopub.status.idle": "2022-03-13T03:12:13.859203Z",
          "shell.execute_reply.started": "2022-03-13T03:12:13.825416Z",
          "shell.execute_reply": "2022-03-13T03:12:13.858184Z"
        },
        "trusted": true,
        "colab": {
          "base_uri": "https://localhost:8080/"
        },
        "id": "63V86D0kzmm_",
        "outputId": "577928ce-1ee0-4cf1-996e-f2b27b81f118"
      },
      "execution_count": 6,
      "outputs": [
        {
          "output_type": "stream",
          "name": "stdout",
          "text": [
            "<class 'pandas.core.frame.DataFrame'>\n",
            "RangeIndex: 8068 entries, 0 to 8067\n",
            "Data columns (total 11 columns):\n",
            " #   Column           Non-Null Count  Dtype  \n",
            "---  ------           --------------  -----  \n",
            " 0   ID               8068 non-null   int64  \n",
            " 1   Gender           8068 non-null   object \n",
            " 2   Ever_Married     7928 non-null   object \n",
            " 3   Age              8068 non-null   int64  \n",
            " 4   Graduated        7990 non-null   object \n",
            " 5   Profession       7944 non-null   object \n",
            " 6   Work_Experience  7239 non-null   float64\n",
            " 7   Spending_Score   8068 non-null   object \n",
            " 8   Family_Size      7733 non-null   float64\n",
            " 9   Var_1            7992 non-null   object \n",
            " 10  Segmentation     8068 non-null   object \n",
            "dtypes: float64(2), int64(2), object(7)\n",
            "memory usage: 693.5+ KB\n"
          ]
        }
      ]
    },
    {
      "cell_type": "code",
      "source": [
        "dftrain.describe()"
      ],
      "metadata": {
        "execution": {
          "iopub.status.busy": "2022-03-13T03:12:23.639679Z",
          "iopub.execute_input": "2022-03-13T03:12:23.640513Z",
          "iopub.status.idle": "2022-03-13T03:12:23.669011Z",
          "shell.execute_reply.started": "2022-03-13T03:12:23.640475Z",
          "shell.execute_reply": "2022-03-13T03:12:23.668381Z"
        },
        "trusted": true,
        "colab": {
          "base_uri": "https://localhost:8080/",
          "height": 300
        },
        "id": "TR-9iU5uzmm_",
        "outputId": "5f2c1499-6c4d-4039-cc49-27796c43c044"
      },
      "execution_count": 7,
      "outputs": [
        {
          "output_type": "execute_result",
          "data": {
            "text/plain": [
              "                  ID          Age  Work_Experience  Family_Size\n",
              "count    8068.000000  8068.000000      7239.000000  7733.000000\n",
              "mean   463479.214551    43.466906         2.641663     2.850123\n",
              "std      2595.381232    16.711696         3.406763     1.531413\n",
              "min    458982.000000    18.000000         0.000000     1.000000\n",
              "25%    461240.750000    30.000000         0.000000     2.000000\n",
              "50%    463472.500000    40.000000         1.000000     3.000000\n",
              "75%    465744.250000    53.000000         4.000000     4.000000\n",
              "max    467974.000000    89.000000        14.000000     9.000000"
            ],
            "text/html": [
              "\n",
              "  <div id=\"df-385ffcba-cbaa-4bb5-9d5f-413d64d7dfe1\">\n",
              "    <div class=\"colab-df-container\">\n",
              "      <div>\n",
              "<style scoped>\n",
              "    .dataframe tbody tr th:only-of-type {\n",
              "        vertical-align: middle;\n",
              "    }\n",
              "\n",
              "    .dataframe tbody tr th {\n",
              "        vertical-align: top;\n",
              "    }\n",
              "\n",
              "    .dataframe thead th {\n",
              "        text-align: right;\n",
              "    }\n",
              "</style>\n",
              "<table border=\"1\" class=\"dataframe\">\n",
              "  <thead>\n",
              "    <tr style=\"text-align: right;\">\n",
              "      <th></th>\n",
              "      <th>ID</th>\n",
              "      <th>Age</th>\n",
              "      <th>Work_Experience</th>\n",
              "      <th>Family_Size</th>\n",
              "    </tr>\n",
              "  </thead>\n",
              "  <tbody>\n",
              "    <tr>\n",
              "      <th>count</th>\n",
              "      <td>8068.000000</td>\n",
              "      <td>8068.000000</td>\n",
              "      <td>7239.000000</td>\n",
              "      <td>7733.000000</td>\n",
              "    </tr>\n",
              "    <tr>\n",
              "      <th>mean</th>\n",
              "      <td>463479.214551</td>\n",
              "      <td>43.466906</td>\n",
              "      <td>2.641663</td>\n",
              "      <td>2.850123</td>\n",
              "    </tr>\n",
              "    <tr>\n",
              "      <th>std</th>\n",
              "      <td>2595.381232</td>\n",
              "      <td>16.711696</td>\n",
              "      <td>3.406763</td>\n",
              "      <td>1.531413</td>\n",
              "    </tr>\n",
              "    <tr>\n",
              "      <th>min</th>\n",
              "      <td>458982.000000</td>\n",
              "      <td>18.000000</td>\n",
              "      <td>0.000000</td>\n",
              "      <td>1.000000</td>\n",
              "    </tr>\n",
              "    <tr>\n",
              "      <th>25%</th>\n",
              "      <td>461240.750000</td>\n",
              "      <td>30.000000</td>\n",
              "      <td>0.000000</td>\n",
              "      <td>2.000000</td>\n",
              "    </tr>\n",
              "    <tr>\n",
              "      <th>50%</th>\n",
              "      <td>463472.500000</td>\n",
              "      <td>40.000000</td>\n",
              "      <td>1.000000</td>\n",
              "      <td>3.000000</td>\n",
              "    </tr>\n",
              "    <tr>\n",
              "      <th>75%</th>\n",
              "      <td>465744.250000</td>\n",
              "      <td>53.000000</td>\n",
              "      <td>4.000000</td>\n",
              "      <td>4.000000</td>\n",
              "    </tr>\n",
              "    <tr>\n",
              "      <th>max</th>\n",
              "      <td>467974.000000</td>\n",
              "      <td>89.000000</td>\n",
              "      <td>14.000000</td>\n",
              "      <td>9.000000</td>\n",
              "    </tr>\n",
              "  </tbody>\n",
              "</table>\n",
              "</div>\n",
              "      <button class=\"colab-df-convert\" onclick=\"convertToInteractive('df-385ffcba-cbaa-4bb5-9d5f-413d64d7dfe1')\"\n",
              "              title=\"Convert this dataframe to an interactive table.\"\n",
              "              style=\"display:none;\">\n",
              "        \n",
              "  <svg xmlns=\"http://www.w3.org/2000/svg\" height=\"24px\"viewBox=\"0 0 24 24\"\n",
              "       width=\"24px\">\n",
              "    <path d=\"M0 0h24v24H0V0z\" fill=\"none\"/>\n",
              "    <path d=\"M18.56 5.44l.94 2.06.94-2.06 2.06-.94-2.06-.94-.94-2.06-.94 2.06-2.06.94zm-11 1L8.5 8.5l.94-2.06 2.06-.94-2.06-.94L8.5 2.5l-.94 2.06-2.06.94zm10 10l.94 2.06.94-2.06 2.06-.94-2.06-.94-.94-2.06-.94 2.06-2.06.94z\"/><path d=\"M17.41 7.96l-1.37-1.37c-.4-.4-.92-.59-1.43-.59-.52 0-1.04.2-1.43.59L10.3 9.45l-7.72 7.72c-.78.78-.78 2.05 0 2.83L4 21.41c.39.39.9.59 1.41.59.51 0 1.02-.2 1.41-.59l7.78-7.78 2.81-2.81c.8-.78.8-2.07 0-2.86zM5.41 20L4 18.59l7.72-7.72 1.47 1.35L5.41 20z\"/>\n",
              "  </svg>\n",
              "      </button>\n",
              "      \n",
              "  <style>\n",
              "    .colab-df-container {\n",
              "      display:flex;\n",
              "      flex-wrap:wrap;\n",
              "      gap: 12px;\n",
              "    }\n",
              "\n",
              "    .colab-df-convert {\n",
              "      background-color: #E8F0FE;\n",
              "      border: none;\n",
              "      border-radius: 50%;\n",
              "      cursor: pointer;\n",
              "      display: none;\n",
              "      fill: #1967D2;\n",
              "      height: 32px;\n",
              "      padding: 0 0 0 0;\n",
              "      width: 32px;\n",
              "    }\n",
              "\n",
              "    .colab-df-convert:hover {\n",
              "      background-color: #E2EBFA;\n",
              "      box-shadow: 0px 1px 2px rgba(60, 64, 67, 0.3), 0px 1px 3px 1px rgba(60, 64, 67, 0.15);\n",
              "      fill: #174EA6;\n",
              "    }\n",
              "\n",
              "    [theme=dark] .colab-df-convert {\n",
              "      background-color: #3B4455;\n",
              "      fill: #D2E3FC;\n",
              "    }\n",
              "\n",
              "    [theme=dark] .colab-df-convert:hover {\n",
              "      background-color: #434B5C;\n",
              "      box-shadow: 0px 1px 3px 1px rgba(0, 0, 0, 0.15);\n",
              "      filter: drop-shadow(0px 1px 2px rgba(0, 0, 0, 0.3));\n",
              "      fill: #FFFFFF;\n",
              "    }\n",
              "  </style>\n",
              "\n",
              "      <script>\n",
              "        const buttonEl =\n",
              "          document.querySelector('#df-385ffcba-cbaa-4bb5-9d5f-413d64d7dfe1 button.colab-df-convert');\n",
              "        buttonEl.style.display =\n",
              "          google.colab.kernel.accessAllowed ? 'block' : 'none';\n",
              "\n",
              "        async function convertToInteractive(key) {\n",
              "          const element = document.querySelector('#df-385ffcba-cbaa-4bb5-9d5f-413d64d7dfe1');\n",
              "          const dataTable =\n",
              "            await google.colab.kernel.invokeFunction('convertToInteractive',\n",
              "                                                     [key], {});\n",
              "          if (!dataTable) return;\n",
              "\n",
              "          const docLinkHtml = 'Like what you see? Visit the ' +\n",
              "            '<a target=\"_blank\" href=https://colab.research.google.com/notebooks/data_table.ipynb>data table notebook</a>'\n",
              "            + ' to learn more about interactive tables.';\n",
              "          element.innerHTML = '';\n",
              "          dataTable['output_type'] = 'display_data';\n",
              "          await google.colab.output.renderOutput(dataTable, element);\n",
              "          const docLink = document.createElement('div');\n",
              "          docLink.innerHTML = docLinkHtml;\n",
              "          element.appendChild(docLink);\n",
              "        }\n",
              "      </script>\n",
              "    </div>\n",
              "  </div>\n",
              "  "
            ]
          },
          "metadata": {},
          "execution_count": 7
        }
      ]
    },
    {
      "cell_type": "markdown",
      "source": [
        "Total number of null values present in the traing data set's each columns are"
      ],
      "metadata": {
        "id": "tmALKczr8Mjt"
      }
    },
    {
      "cell_type": "code",
      "source": [
        "dftrain.isna().sum()"
      ],
      "metadata": {
        "execution": {
          "iopub.status.busy": "2022-03-13T03:12:35.985218Z",
          "iopub.execute_input": "2022-03-13T03:12:35.985499Z",
          "iopub.status.idle": "2022-03-13T03:12:35.996700Z",
          "shell.execute_reply.started": "2022-03-13T03:12:35.985477Z",
          "shell.execute_reply": "2022-03-13T03:12:35.995254Z"
        },
        "trusted": true,
        "colab": {
          "base_uri": "https://localhost:8080/"
        },
        "id": "U3E4D2zIzmnA",
        "outputId": "5e0e70b1-e212-4599-b267-4963dc80b65b"
      },
      "execution_count": 8,
      "outputs": [
        {
          "output_type": "execute_result",
          "data": {
            "text/plain": [
              "ID                   0\n",
              "Gender               0\n",
              "Ever_Married       140\n",
              "Age                  0\n",
              "Graduated           78\n",
              "Profession         124\n",
              "Work_Experience    829\n",
              "Spending_Score       0\n",
              "Family_Size        335\n",
              "Var_1               76\n",
              "Segmentation         0\n",
              "dtype: int64"
            ]
          },
          "metadata": {},
          "execution_count": 8
        }
      ]
    },
    {
      "cell_type": "code",
      "source": [
        "columns=['ID','Gender','Ever_Married','Age','Graduated','Profession','Work_Experience','Spending_Score','Family_Size','Var_1','Segmentation']"
      ],
      "metadata": {
        "execution": {
          "iopub.status.busy": "2022-03-13T05:24:13.796433Z",
          "iopub.execute_input": "2022-03-13T05:24:13.797219Z",
          "iopub.status.idle": "2022-03-13T05:24:13.801075Z",
          "shell.execute_reply.started": "2022-03-13T05:24:13.797163Z",
          "shell.execute_reply": "2022-03-13T05:24:13.800354Z"
        },
        "trusted": true,
        "id": "Bc9mTPiRzmnB"
      },
      "execution_count": 4,
      "outputs": []
    },
    {
      "cell_type": "code",
      "source": [
        "dftrain['Ever_Married'].median"
      ],
      "metadata": {
        "execution": {
          "iopub.status.busy": "2022-03-13T05:24:14.127292Z",
          "iopub.execute_input": "2022-03-13T05:24:14.127706Z",
          "iopub.status.idle": "2022-03-13T05:24:14.137553Z",
          "shell.execute_reply.started": "2022-03-13T05:24:14.127667Z",
          "shell.execute_reply": "2022-03-13T05:24:14.137048Z"
        },
        "trusted": true,
        "colab": {
          "base_uri": "https://localhost:8080/"
        },
        "id": "dqQgOR8-zmnC",
        "outputId": "3d9371d2-5368-44d6-e691-ab3ad6417e0b"
      },
      "execution_count": 61,
      "outputs": [
        {
          "output_type": "execute_result",
          "data": {
            "text/plain": [
              "<bound method NDFrame._add_numeric_operations.<locals>.median of 0        No\n",
              "1       Yes\n",
              "2       Yes\n",
              "3       Yes\n",
              "4       Yes\n",
              "       ... \n",
              "8063     No\n",
              "8064     No\n",
              "8065     No\n",
              "8066     No\n",
              "8067    Yes\n",
              "Name: Ever_Married, Length: 8068, dtype: object>"
            ]
          },
          "metadata": {},
          "execution_count": 61
        }
      ]
    },
    {
      "cell_type": "markdown",
      "source": [
        "here we are checking if a columns have null value the replace it with the median value of that column"
      ],
      "metadata": {
        "id": "2CcVdHTY8uIm"
      }
    },
    {
      "cell_type": "code",
      "source": [
        "for x in columns:\n",
        "    if dftrain[x].isna().sum()>=1:\n",
        "        dftrain[x].fillna(dftrain[x].median)"
      ],
      "metadata": {
        "execution": {
          "iopub.status.busy": "2022-03-13T05:24:18.738338Z",
          "iopub.execute_input": "2022-03-13T05:24:18.739125Z",
          "iopub.status.idle": "2022-03-13T05:24:18.754111Z",
          "shell.execute_reply.started": "2022-03-13T05:24:18.739085Z",
          "shell.execute_reply": "2022-03-13T05:24:18.753321Z"
        },
        "trusted": true,
        "id": "6PAinff_zmnE"
      },
      "execution_count": 5,
      "outputs": []
    },
    {
      "cell_type": "code",
      "source": [
        "obj_col=['ID','Gender','Ever_Married','Age','Graduated','Profession','Work_Experience','Spending_Score','Family_Size','Var_1','Segmentation']"
      ],
      "metadata": {
        "execution": {
          "iopub.status.busy": "2022-03-13T05:24:19.923272Z",
          "iopub.execute_input": "2022-03-13T05:24:19.923576Z",
          "iopub.status.idle": "2022-03-13T05:24:19.928056Z",
          "shell.execute_reply.started": "2022-03-13T05:24:19.923541Z",
          "shell.execute_reply": "2022-03-13T05:24:19.927128Z"
        },
        "trusted": true,
        "id": "vrOyGbSyzmnF"
      },
      "execution_count": 6,
      "outputs": []
    },
    {
      "cell_type": "markdown",
      "source": [
        "by using label encoder we are converting the objective values to the integer type"
      ],
      "metadata": {
        "id": "bQjteoHB9AR1"
      }
    },
    {
      "cell_type": "code",
      "source": [
        "from sklearn.preprocessing import LabelEncoder"
      ],
      "metadata": {
        "execution": {
          "iopub.status.busy": "2022-03-13T05:24:21.488208Z",
          "iopub.execute_input": "2022-03-13T05:24:21.488456Z",
          "iopub.status.idle": "2022-03-13T05:24:22.505589Z",
          "shell.execute_reply.started": "2022-03-13T05:24:21.488430Z",
          "shell.execute_reply": "2022-03-13T05:24:22.504773Z"
        },
        "trusted": true,
        "id": "6F--EK_fzmnG"
      },
      "execution_count": 7,
      "outputs": []
    },
    {
      "cell_type": "code",
      "source": [
        "le=LabelEncoder()\n",
        "for y in obj_col:\n",
        "    dftrain[y]=le.fit_transform(dftrain[y])"
      ],
      "metadata": {
        "execution": {
          "iopub.status.busy": "2022-03-13T05:24:22.824073Z",
          "iopub.execute_input": "2022-03-13T05:24:22.824805Z",
          "iopub.status.idle": "2022-03-13T05:24:22.849331Z",
          "shell.execute_reply.started": "2022-03-13T05:24:22.824747Z",
          "shell.execute_reply": "2022-03-13T05:24:22.848528Z"
        },
        "trusted": true,
        "id": "WSjYuTx2zmnH"
      },
      "execution_count": 8,
      "outputs": []
    },
    {
      "cell_type": "markdown",
      "source": [
        "After cleaning dataframe look like this"
      ],
      "metadata": {
        "id": "tjem1Jzg9NDV"
      }
    },
    {
      "cell_type": "code",
      "source": [
        "dftrain.head(3)"
      ],
      "metadata": {
        "execution": {
          "iopub.status.busy": "2022-03-13T03:34:07.507043Z",
          "iopub.execute_input": "2022-03-13T03:34:07.507542Z",
          "iopub.status.idle": "2022-03-13T03:34:07.520479Z",
          "shell.execute_reply.started": "2022-03-13T03:34:07.507503Z",
          "shell.execute_reply": "2022-03-13T03:34:07.519479Z"
        },
        "trusted": true,
        "colab": {
          "base_uri": "https://localhost:8080/",
          "height": 143
        },
        "id": "K37aBsLyzmnI",
        "outputId": "9414b0e1-f058-488b-a19b-47a5441cefd2"
      },
      "execution_count": 15,
      "outputs": [
        {
          "output_type": "execute_result",
          "data": {
            "text/plain": [
              "     ID  Gender  Ever_Married  Age  Graduated  Profession  Work_Experience  \\\n",
              "0  3441       1             0    4          0           5                1   \n",
              "1  3292       0             1   18          1           2               15   \n",
              "2  6571       0             1   44          1           2                1   \n",
              "\n",
              "   Spending_Score  Family_Size  Var_1  Segmentation  \n",
              "0               2            3      3             3  \n",
              "1               0            2      3             0  \n",
              "2               2            0      5             1  "
            ],
            "text/html": [
              "\n",
              "  <div id=\"df-517f007a-a737-4215-91c7-9547edbd825e\">\n",
              "    <div class=\"colab-df-container\">\n",
              "      <div>\n",
              "<style scoped>\n",
              "    .dataframe tbody tr th:only-of-type {\n",
              "        vertical-align: middle;\n",
              "    }\n",
              "\n",
              "    .dataframe tbody tr th {\n",
              "        vertical-align: top;\n",
              "    }\n",
              "\n",
              "    .dataframe thead th {\n",
              "        text-align: right;\n",
              "    }\n",
              "</style>\n",
              "<table border=\"1\" class=\"dataframe\">\n",
              "  <thead>\n",
              "    <tr style=\"text-align: right;\">\n",
              "      <th></th>\n",
              "      <th>ID</th>\n",
              "      <th>Gender</th>\n",
              "      <th>Ever_Married</th>\n",
              "      <th>Age</th>\n",
              "      <th>Graduated</th>\n",
              "      <th>Profession</th>\n",
              "      <th>Work_Experience</th>\n",
              "      <th>Spending_Score</th>\n",
              "      <th>Family_Size</th>\n",
              "      <th>Var_1</th>\n",
              "      <th>Segmentation</th>\n",
              "    </tr>\n",
              "  </thead>\n",
              "  <tbody>\n",
              "    <tr>\n",
              "      <th>0</th>\n",
              "      <td>3441</td>\n",
              "      <td>1</td>\n",
              "      <td>0</td>\n",
              "      <td>4</td>\n",
              "      <td>0</td>\n",
              "      <td>5</td>\n",
              "      <td>1</td>\n",
              "      <td>2</td>\n",
              "      <td>3</td>\n",
              "      <td>3</td>\n",
              "      <td>3</td>\n",
              "    </tr>\n",
              "    <tr>\n",
              "      <th>1</th>\n",
              "      <td>3292</td>\n",
              "      <td>0</td>\n",
              "      <td>1</td>\n",
              "      <td>18</td>\n",
              "      <td>1</td>\n",
              "      <td>2</td>\n",
              "      <td>15</td>\n",
              "      <td>0</td>\n",
              "      <td>2</td>\n",
              "      <td>3</td>\n",
              "      <td>0</td>\n",
              "    </tr>\n",
              "    <tr>\n",
              "      <th>2</th>\n",
              "      <td>6571</td>\n",
              "      <td>0</td>\n",
              "      <td>1</td>\n",
              "      <td>44</td>\n",
              "      <td>1</td>\n",
              "      <td>2</td>\n",
              "      <td>1</td>\n",
              "      <td>2</td>\n",
              "      <td>0</td>\n",
              "      <td>5</td>\n",
              "      <td>1</td>\n",
              "    </tr>\n",
              "  </tbody>\n",
              "</table>\n",
              "</div>\n",
              "      <button class=\"colab-df-convert\" onclick=\"convertToInteractive('df-517f007a-a737-4215-91c7-9547edbd825e')\"\n",
              "              title=\"Convert this dataframe to an interactive table.\"\n",
              "              style=\"display:none;\">\n",
              "        \n",
              "  <svg xmlns=\"http://www.w3.org/2000/svg\" height=\"24px\"viewBox=\"0 0 24 24\"\n",
              "       width=\"24px\">\n",
              "    <path d=\"M0 0h24v24H0V0z\" fill=\"none\"/>\n",
              "    <path d=\"M18.56 5.44l.94 2.06.94-2.06 2.06-.94-2.06-.94-.94-2.06-.94 2.06-2.06.94zm-11 1L8.5 8.5l.94-2.06 2.06-.94-2.06-.94L8.5 2.5l-.94 2.06-2.06.94zm10 10l.94 2.06.94-2.06 2.06-.94-2.06-.94-.94-2.06-.94 2.06-2.06.94z\"/><path d=\"M17.41 7.96l-1.37-1.37c-.4-.4-.92-.59-1.43-.59-.52 0-1.04.2-1.43.59L10.3 9.45l-7.72 7.72c-.78.78-.78 2.05 0 2.83L4 21.41c.39.39.9.59 1.41.59.51 0 1.02-.2 1.41-.59l7.78-7.78 2.81-2.81c.8-.78.8-2.07 0-2.86zM5.41 20L4 18.59l7.72-7.72 1.47 1.35L5.41 20z\"/>\n",
              "  </svg>\n",
              "      </button>\n",
              "      \n",
              "  <style>\n",
              "    .colab-df-container {\n",
              "      display:flex;\n",
              "      flex-wrap:wrap;\n",
              "      gap: 12px;\n",
              "    }\n",
              "\n",
              "    .colab-df-convert {\n",
              "      background-color: #E8F0FE;\n",
              "      border: none;\n",
              "      border-radius: 50%;\n",
              "      cursor: pointer;\n",
              "      display: none;\n",
              "      fill: #1967D2;\n",
              "      height: 32px;\n",
              "      padding: 0 0 0 0;\n",
              "      width: 32px;\n",
              "    }\n",
              "\n",
              "    .colab-df-convert:hover {\n",
              "      background-color: #E2EBFA;\n",
              "      box-shadow: 0px 1px 2px rgba(60, 64, 67, 0.3), 0px 1px 3px 1px rgba(60, 64, 67, 0.15);\n",
              "      fill: #174EA6;\n",
              "    }\n",
              "\n",
              "    [theme=dark] .colab-df-convert {\n",
              "      background-color: #3B4455;\n",
              "      fill: #D2E3FC;\n",
              "    }\n",
              "\n",
              "    [theme=dark] .colab-df-convert:hover {\n",
              "      background-color: #434B5C;\n",
              "      box-shadow: 0px 1px 3px 1px rgba(0, 0, 0, 0.15);\n",
              "      filter: drop-shadow(0px 1px 2px rgba(0, 0, 0, 0.3));\n",
              "      fill: #FFFFFF;\n",
              "    }\n",
              "  </style>\n",
              "\n",
              "      <script>\n",
              "        const buttonEl =\n",
              "          document.querySelector('#df-517f007a-a737-4215-91c7-9547edbd825e button.colab-df-convert');\n",
              "        buttonEl.style.display =\n",
              "          google.colab.kernel.accessAllowed ? 'block' : 'none';\n",
              "\n",
              "        async function convertToInteractive(key) {\n",
              "          const element = document.querySelector('#df-517f007a-a737-4215-91c7-9547edbd825e');\n",
              "          const dataTable =\n",
              "            await google.colab.kernel.invokeFunction('convertToInteractive',\n",
              "                                                     [key], {});\n",
              "          if (!dataTable) return;\n",
              "\n",
              "          const docLinkHtml = 'Like what you see? Visit the ' +\n",
              "            '<a target=\"_blank\" href=https://colab.research.google.com/notebooks/data_table.ipynb>data table notebook</a>'\n",
              "            + ' to learn more about interactive tables.';\n",
              "          element.innerHTML = '';\n",
              "          dataTable['output_type'] = 'display_data';\n",
              "          await google.colab.output.renderOutput(dataTable, element);\n",
              "          const docLink = document.createElement('div');\n",
              "          docLink.innerHTML = docLinkHtml;\n",
              "          element.appendChild(docLink);\n",
              "        }\n",
              "      </script>\n",
              "    </div>\n",
              "  </div>\n",
              "  "
            ]
          },
          "metadata": {},
          "execution_count": 15
        }
      ]
    },
    {
      "cell_type": "markdown",
      "source": [
        "seperating the target variable and other columns"
      ],
      "metadata": {
        "id": "vamY93W-9TxN"
      }
    },
    {
      "cell_type": "code",
      "source": [
        "X=dftrain.drop('Segmentation',axis=1)\n",
        "Y=dftrain['Segmentation']"
      ],
      "metadata": {
        "execution": {
          "iopub.status.busy": "2022-03-13T05:24:31.165871Z",
          "iopub.execute_input": "2022-03-13T05:24:31.166161Z",
          "iopub.status.idle": "2022-03-13T05:24:31.176978Z",
          "shell.execute_reply.started": "2022-03-13T05:24:31.166130Z",
          "shell.execute_reply": "2022-03-13T05:24:31.176096Z"
        },
        "trusted": true,
        "id": "DugcspOfzmnI"
      },
      "execution_count": 16,
      "outputs": []
    },
    {
      "cell_type": "markdown",
      "source": [
        "scaling the X "
      ],
      "metadata": {
        "id": "JRl_lV1D9dBx"
      }
    },
    {
      "cell_type": "code",
      "source": [
        "from sklearn.preprocessing import StandardScaler\n",
        "s = StandardScaler()     "
      ],
      "metadata": {
        "execution": {
          "iopub.status.busy": "2022-03-13T05:24:32.227725Z",
          "iopub.execute_input": "2022-03-13T05:24:32.228012Z",
          "iopub.status.idle": "2022-03-13T05:24:32.232927Z",
          "shell.execute_reply.started": "2022-03-13T05:24:32.227984Z",
          "shell.execute_reply": "2022-03-13T05:24:32.232204Z"
        },
        "trusted": true,
        "id": "da0OVU4yzmnJ"
      },
      "execution_count": 17,
      "outputs": []
    },
    {
      "cell_type": "code",
      "source": [
        "df_s=s.fit_transform(dftrain)"
      ],
      "metadata": {
        "execution": {
          "iopub.status.busy": "2022-03-13T05:24:33.308805Z",
          "iopub.execute_input": "2022-03-13T05:24:33.309096Z",
          "iopub.status.idle": "2022-03-13T05:24:33.319796Z",
          "shell.execute_reply.started": "2022-03-13T05:24:33.309069Z",
          "shell.execute_reply": "2022-03-13T05:24:33.318799Z"
        },
        "trusted": true,
        "id": "pP9bQtaQzmnK"
      },
      "execution_count": 18,
      "outputs": []
    },
    {
      "cell_type": "code",
      "source": [
        "x_s=s.fit_transform(X)"
      ],
      "metadata": {
        "execution": {
          "iopub.status.busy": "2022-03-13T05:24:37.105746Z",
          "iopub.execute_input": "2022-03-13T05:24:37.106172Z",
          "iopub.status.idle": "2022-03-13T05:24:37.115914Z",
          "shell.execute_reply.started": "2022-03-13T05:24:37.106141Z",
          "shell.execute_reply": "2022-03-13T05:24:37.115152Z"
        },
        "trusted": true,
        "id": "PnMiqHJdzmnK"
      },
      "execution_count": 19,
      "outputs": []
    },
    {
      "cell_type": "code",
      "source": [
        "from sklearn.model_selection import train_test_split\n",
        "xtr,xte,ytr,yte=train_test_split(x_s,Y,test_size=0.2,random_state=True)"
      ],
      "metadata": {
        "execution": {
          "iopub.status.busy": "2022-03-13T05:24:37.400021Z",
          "iopub.execute_input": "2022-03-13T05:24:37.400431Z",
          "iopub.status.idle": "2022-03-13T05:24:37.462478Z",
          "shell.execute_reply.started": "2022-03-13T05:24:37.400401Z",
          "shell.execute_reply": "2022-03-13T05:24:37.461829Z"
        },
        "trusted": true,
        "id": "UaBcn3uozmnL"
      },
      "execution_count": 20,
      "outputs": []
    },
    {
      "cell_type": "code",
      "source": [
        "from sklearn.cluster import KMeans"
      ],
      "metadata": {
        "execution": {
          "iopub.status.busy": "2022-03-13T05:24:37.960593Z",
          "iopub.execute_input": "2022-03-13T05:24:37.961052Z",
          "iopub.status.idle": "2022-03-13T05:24:38.174742Z",
          "shell.execute_reply.started": "2022-03-13T05:24:37.961013Z",
          "shell.execute_reply": "2022-03-13T05:24:38.173901Z"
        },
        "trusted": true,
        "id": "NQRN7LQAzmnL"
      },
      "execution_count": 9,
      "outputs": []
    },
    {
      "cell_type": "markdown",
      "source": [
        "Does the report include a section with variations of Unsupervised Learning models and specifies which one is the model that best suits the main objective(s) of this analysis?"
      ],
      "metadata": {
        "id": "4DsCdNnA7jpB"
      }
    },
    {
      "cell_type": "markdown",
      "source": [
        "#using Kmeans algorithm"
      ],
      "metadata": {
        "id": "X-vJwWCM9pIi"
      }
    },
    {
      "cell_type": "code",
      "source": [
        "\n",
        "ss = []\n",
        "\n",
        "for i in range(1,11):\n",
        "  km = KMeans(n_clusters=i, init='k-means++', random_state=42)\n",
        "  km.fit(dftrain)\n",
        "\n",
        "  ss.append(km.inertia_)"
      ],
      "metadata": {
        "id": "665wFs53kWuC"
      },
      "execution_count": 107,
      "outputs": []
    },
    {
      "cell_type": "code",
      "source": [
        "plt.plot(range(1,11),ss)"
      ],
      "metadata": {
        "execution": {
          "iopub.status.busy": "2022-03-13T05:25:04.961077Z",
          "iopub.execute_input": "2022-03-13T05:25:04.961434Z",
          "iopub.status.idle": "2022-03-13T05:25:05.278476Z",
          "shell.execute_reply.started": "2022-03-13T05:25:04.961381Z",
          "shell.execute_reply": "2022-03-13T05:25:05.276550Z"
        },
        "trusted": true,
        "colab": {
          "base_uri": "https://localhost:8080/",
          "height": 296
        },
        "id": "azMl3jVBzmnN",
        "outputId": "08860fc8-7640-4580-ec8b-0185aaf47f5e"
      },
      "execution_count": 108,
      "outputs": [
        {
          "output_type": "execute_result",
          "data": {
            "text/plain": [
              "[<matplotlib.lines.Line2D at 0x7fadd229ff10>]"
            ]
          },
          "metadata": {},
          "execution_count": 108
        },
        {
          "output_type": "display_data",
          "data": {
            "text/plain": [
              "<Figure size 432x288 with 1 Axes>"
            ],
            "image/png": "[encoded data removed]"
          },
          "metadata": {}
        }
      ]
    },
    {
      "cell_type": "code",
      "source": [
        "km1=KMeans(n_clusters=3)\n",
        "X=km1.fit_transform(dftrain)"
      ],
      "metadata": {
        "id": "bgIEpOxWLmKh"
      },
      "execution_count": 109,
      "outputs": []
    },
    {
      "cell_type": "code",
      "source": [
        "la_k=list()\n",
        "la_k=km1.labels_"
      ],
      "metadata": {
        "id": "nM9wAFgfGd_K"
      },
      "execution_count": 110,
      "outputs": []
    },
    {
      "cell_type": "code",
      "source": [
        "Y = km1.fit_predict(dftrain)"
      ],
      "metadata": {
        "id": "g_6a3SuQL-Mu"
      },
      "execution_count": 111,
      "outputs": []
    },
    {
      "cell_type": "code",
      "source": [
        "X=dftrain\n",
        "X.head()"
      ],
      "metadata": {
        "colab": {
          "base_uri": "https://localhost:8080/",
          "height": 206
        },
        "id": "0b2ZnrAdMHK2",
        "outputId": "62dbed83-f184-4c1f-bd1f-d28822cf7895"
      },
      "execution_count": 20,
      "outputs": [
        {
          "output_type": "execute_result",
          "data": {
            "text/plain": [
              "     ID  Gender  Ever_Married  Age  Graduated  Profession  Work_Experience  \\\n",
              "0  3441       1             0    4          0           5                1   \n",
              "1  3292       0             1   18          1           2               15   \n",
              "2  6571       0             1   44          1           2                1   \n",
              "3  2469       1             1   44          1           7                0   \n",
              "4  3315       0             1   20          1           3               15   \n",
              "\n",
              "   Spending_Score  Family_Size  Var_1  Segmentation  \n",
              "0               2            3      3             3  \n",
              "1               0            2      3             0  \n",
              "2               2            0      5             1  \n",
              "3               1            1      5             1  \n",
              "4               1            5      5             0  "
            ],
            "text/html": [
              "\n",
              "  <div id=\"df-07478abf-e8c2-47c4-aefc-76c8e7dd72cb\">\n",
              "    <div class=\"colab-df-container\">\n",
              "      <div>\n",
              "<style scoped>\n",
              "    .dataframe tbody tr th:only-of-type {\n",
              "        vertical-align: middle;\n",
              "    }\n",
              "\n",
              "    .dataframe tbody tr th {\n",
              "        vertical-align: top;\n",
              "    }\n",
              "\n",
              "    .dataframe thead th {\n",
              "        text-align: right;\n",
              "    }\n",
              "</style>\n",
              "<table border=\"1\" class=\"dataframe\">\n",
              "  <thead>\n",
              "    <tr style=\"text-align: right;\">\n",
              "      <th></th>\n",
              "      <th>ID</th>\n",
              "      <th>Gender</th>\n",
              "      <th>Ever_Married</th>\n",
              "      <th>Age</th>\n",
              "      <th>Graduated</th>\n",
              "      <th>Profession</th>\n",
              "      <th>Work_Experience</th>\n",
              "      <th>Spending_Score</th>\n",
              "      <th>Family_Size</th>\n",
              "      <th>Var_1</th>\n",
              "      <th>Segmentation</th>\n",
              "    </tr>\n",
              "  </thead>\n",
              "  <tbody>\n",
              "    <tr>\n",
              "      <th>0</th>\n",
              "      <td>3441</td>\n",
              "      <td>1</td>\n",
              "      <td>0</td>\n",
              "      <td>4</td>\n",
              "      <td>0</td>\n",
              "      <td>5</td>\n",
              "      <td>1</td>\n",
              "      <td>2</td>\n",
              "      <td>3</td>\n",
              "      <td>3</td>\n",
              "      <td>3</td>\n",
              "    </tr>\n",
              "    <tr>\n",
              "      <th>1</th>\n",
              "      <td>3292</td>\n",
              "      <td>0</td>\n",
              "      <td>1</td>\n",
              "      <td>18</td>\n",
              "      <td>1</td>\n",
              "      <td>2</td>\n",
              "      <td>15</td>\n",
              "      <td>0</td>\n",
              "      <td>2</td>\n",
              "      <td>3</td>\n",
              "      <td>0</td>\n",
              "    </tr>\n",
              "    <tr>\n",
              "      <th>2</th>\n",
              "      <td>6571</td>\n",
              "      <td>0</td>\n",
              "      <td>1</td>\n",
              "      <td>44</td>\n",
              "      <td>1</td>\n",
              "      <td>2</td>\n",
              "      <td>1</td>\n",
              "      <td>2</td>\n",
              "      <td>0</td>\n",
              "      <td>5</td>\n",
              "      <td>1</td>\n",
              "    </tr>\n",
              "    <tr>\n",
              "      <th>3</th>\n",
              "      <td>2469</td>\n",
              "      <td>1</td>\n",
              "      <td>1</td>\n",
              "      <td>44</td>\n",
              "      <td>1</td>\n",
              "      <td>7</td>\n",
              "      <td>0</td>\n",
              "      <td>1</td>\n",
              "      <td>1</td>\n",
              "      <td>5</td>\n",
              "      <td>1</td>\n",
              "    </tr>\n",
              "    <tr>\n",
              "      <th>4</th>\n",
              "      <td>3315</td>\n",
              "      <td>0</td>\n",
              "      <td>1</td>\n",
              "      <td>20</td>\n",
              "      <td>1</td>\n",
              "      <td>3</td>\n",
              "      <td>15</td>\n",
              "      <td>1</td>\n",
              "      <td>5</td>\n",
              "      <td>5</td>\n",
              "      <td>0</td>\n",
              "    </tr>\n",
              "  </tbody>\n",
              "</table>\n",
              "</div>\n",
              "      <button class=\"colab-df-convert\" onclick=\"convertToInteractive('df-07478abf-e8c2-47c4-aefc-76c8e7dd72cb')\"\n",
              "              title=\"Convert this dataframe to an interactive table.\"\n",
              "              style=\"display:none;\">\n",
              "        \n",
              "  <svg xmlns=\"http://www.w3.org/2000/svg\" height=\"24px\"viewBox=\"0 0 24 24\"\n",
              "       width=\"24px\">\n",
              "    <path d=\"M0 0h24v24H0V0z\" fill=\"none\"/>\n",
              "    <path d=\"M18.56 5.44l.94 2.06.94-2.06 2.06-.94-2.06-.94-.94-2.06-.94 2.06-2.06.94zm-11 1L8.5 8.5l.94-2.06 2.06-.94-2.06-.94L8.5 2.5l-.94 2.06-2.06.94zm10 10l.94 2.06.94-2.06 2.06-.94-2.06-.94-.94-2.06-.94 2.06-2.06.94z\"/><path d=\"M17.41 7.96l-1.37-1.37c-.4-.4-.92-.59-1.43-.59-.52 0-1.04.2-1.43.59L10.3 9.45l-7.72 7.72c-.78.78-.78 2.05 0 2.83L4 21.41c.39.39.9.59 1.41.59.51 0 1.02-.2 1.41-.59l7.78-7.78 2.81-2.81c.8-.78.8-2.07 0-2.86zM5.41 20L4 18.59l7.72-7.72 1.47 1.35L5.41 20z\"/>\n",
              "  </svg>\n",
              "      </button>\n",
              "      \n",
              "  <style>\n",
              "    .colab-df-container {\n",
              "      display:flex;\n",
              "      flex-wrap:wrap;\n",
              "      gap: 12px;\n",
              "    }\n",
              "\n",
              "    .colab-df-convert {\n",
              "      background-color: #E8F0FE;\n",
              "      border: none;\n",
              "      border-radius: 50%;\n",
              "      cursor: pointer;\n",
              "      display: none;\n",
              "      fill: #1967D2;\n",
              "      height: 32px;\n",
              "      padding: 0 0 0 0;\n",
              "      width: 32px;\n",
              "    }\n",
              "\n",
              "    .colab-df-convert:hover {\n",
              "      background-color: #E2EBFA;\n",
              "      box-shadow: 0px 1px 2px rgba(60, 64, 67, 0.3), 0px 1px 3px 1px rgba(60, 64, 67, 0.15);\n",
              "      fill: #174EA6;\n",
              "    }\n",
              "\n",
              "    [theme=dark] .colab-df-convert {\n",
              "      background-color: #3B4455;\n",
              "      fill: #D2E3FC;\n",
              "    }\n",
              "\n",
              "    [theme=dark] .colab-df-convert:hover {\n",
              "      background-color: #434B5C;\n",
              "      box-shadow: 0px 1px 3px 1px rgba(0, 0, 0, 0.15);\n",
              "      filter: drop-shadow(0px 1px 2px rgba(0, 0, 0, 0.3));\n",
              "      fill: #FFFFFF;\n",
              "    }\n",
              "  </style>\n",
              "\n",
              "      <script>\n",
              "        const buttonEl =\n",
              "          document.querySelector('#df-07478abf-e8c2-47c4-aefc-76c8e7dd72cb button.colab-df-convert');\n",
              "        buttonEl.style.display =\n",
              "          google.colab.kernel.accessAllowed ? 'block' : 'none';\n",
              "\n",
              "        async function convertToInteractive(key) {\n",
              "          const element = document.querySelector('#df-07478abf-e8c2-47c4-aefc-76c8e7dd72cb');\n",
              "          const dataTable =\n",
              "            await google.colab.kernel.invokeFunction('convertToInteractive',\n",
              "                                                     [key], {});\n",
              "          if (!dataTable) return;\n",
              "\n",
              "          const docLinkHtml = 'Like what you see? Visit the ' +\n",
              "            '<a target=\"_blank\" href=https://colab.research.google.com/notebooks/data_table.ipynb>data table notebook</a>'\n",
              "            + ' to learn more about interactive tables.';\n",
              "          element.innerHTML = '';\n",
              "          dataTable['output_type'] = 'display_data';\n",
              "          await google.colab.output.renderOutput(dataTable, element);\n",
              "          const docLink = document.createElement('div');\n",
              "          docLink.innerHTML = docLinkHtml;\n",
              "          element.appendChild(docLink);\n",
              "        }\n",
              "      </script>\n",
              "    </div>\n",
              "  </div>\n",
              "  "
            ]
          },
          "metadata": {},
          "execution_count": 20
        }
      ]
    },
    {
      "cell_type": "code",
      "source": [
        "import matplotlib.pyplot as plt"
      ],
      "metadata": {
        "id": "0OdbSN_OLvW2"
      },
      "execution_count": 13,
      "outputs": []
    },
    {
      "cell_type": "code",
      "source": [
        "plt.figure(figsize=(8,8))\n",
        "plt.scatter(X[Y==0,0], X[Y==0,1], s=50, c='green', label='Cluster 1')\n",
        "plt.scatter(X[Y==1,0], X[Y==1,1], s=50, c='red', label='Cluster 2')\n",
        "plt.scatter(X[Y==2,0], X[Y==2,1], s=50, c='yellow', label='Cluster 3')\n",
        "plt.scatter(X[Y==3,0], X[Y==3,1], s=50, c='violet', label='Cluster 4')\n",
        "plt.scatter(X[Y==4,0], X[Y==4,1], s=50, c='blue', label='Cluster 5')\n",
        "\n",
        "# plot the centroids\n",
        "plt.scatter(km1.cluster_centers_[:,0], km1.cluster_centers_[:,1], s=100, c='cyan', label='Centroids')"
      ],
      "metadata": {
        "colab": {
          "base_uri": "https://localhost:8080/",
          "height": 503
        },
        "id": "RLqJ5QI4974q",
        "outputId": "59453b4e-8021-4af0-e0aa-c18a61400665"
      },
      "execution_count": 112,
      "outputs": [
        {
          "output_type": "execute_result",
          "data": {
            "text/plain": [
              "<matplotlib.collections.PathCollection at 0x7fadd21e8d90>"
            ]
          },
          "metadata": {},
          "execution_count": 112
        },
        {
          "output_type": "display_data",
          "data": {
            "text/plain": [
              "<Figure size 576x576 with 1 Axes>"
            ],
            "image/png": "[encoded data removed]"
          },
          "metadata": {}
        }
      ]
    },
    {
      "cell_type": "markdown",
      "source": [
        "#uaing hiraichal algorithmic clustering"
      ],
      "metadata": {
        "id": "rvuyT3vd_Hao"
      }
    },
    {
      "cell_type": "code",
      "source": [
        "from scipy.cluster.hierarchy import dendrogram, linkage"
      ],
      "metadata": {
        "execution": {
          "iopub.status.busy": "2022-03-13T05:26:40.220497Z",
          "iopub.execute_input": "2022-03-13T05:26:40.220746Z",
          "iopub.status.idle": "2022-03-13T05:26:40.224971Z",
          "shell.execute_reply.started": "2022-03-13T05:26:40.220720Z",
          "shell.execute_reply": "2022-03-13T05:26:40.224142Z"
        },
        "trusted": true,
        "id": "TfoKjdkjzmnQ"
      },
      "execution_count": 25,
      "outputs": []
    },
    {
      "cell_type": "code",
      "source": [
        "dendrograma = dendrogram(linkage(dftrain, method='ward'))\n",
        "plt.title('Dendrograma')\n",
        "plt.xlabel('X')\n",
        "plt.ylabel('Y');"
      ],
      "metadata": {
        "execution": {
          "iopub.status.busy": "2022-03-13T05:26:40.567419Z",
          "iopub.execute_input": "2022-03-13T05:26:40.568169Z",
          "iopub.status.idle": "2022-03-13T05:29:40.778301Z",
          "shell.execute_reply.started": "2022-03-13T05:26:40.568119Z",
          "shell.execute_reply": "2022-03-13T05:29:40.777447Z"
        },
        "trusted": true,
        "colab": {
          "base_uri": "https://localhost:8080/",
          "height": 298
        },
        "id": "c92-7DEzzmnQ",
        "outputId": "417891f9-d188-4411-d131-6dc33ff19382"
      },
      "execution_count": 26,
      "outputs": [
        {
          "output_type": "display_data",
          "data": {
            "text/plain": [
              "<Figure size 432x288 with 1 Axes>"
            ],
            "image/png": "[encoded data removed]"
          },
          "metadata": {
            "needs_background": "light"
          }
        }
      ]
    },
    {
      "cell_type": "code",
      "source": [
        "from sklearn.cluster import AgglomerativeClustering  \n",
        "hc= AgglomerativeClustering(n_clusters=5, affinity='euclidean', linkage='ward')  \n",
        "x1=dftrain\n",
        "x11= hc.fit_predict(x1)  "
      ],
      "metadata": {
        "id": "gstlnC7ZGqtI"
      },
      "execution_count": 35,
      "outputs": []
    },
    {
      "cell_type": "code",
      "source": [
        "la_h=hc.labels_"
      ],
      "metadata": {
        "id": "SFHhALhzgkbY"
      },
      "execution_count": 61,
      "outputs": []
    },
    {
      "cell_type": "code",
      "source": [
        "# x11.shape\n",
        "plt.scatter(x11[y==0,0],x11[y==0,1], c = 'blue', label = 'Cluster 1')\n",
        "plt.scatter(x11[y == 0, 0], x11[y == 0, 1], s = 100, c = 'blue', label = 'Cluster 1')  \n",
        "plt.scatter(x11[y== 1, 0], x11[y == 1, 1], s = 100, c = 'green', label = 'Cluster 2')  \n",
        "plt.scatter(x11[y== 2, 0], x11[y == 2, 1], s = 100, c = 'red', label = 'Cluster 3')  \n",
        "plt.scatter(x11[y == 3, 0], x11[y == 3, 1], s = 100, c = 'cyan', label = 'Cluster 4')  \n",
        "plt.scatter(x11[y == 4, 0], x11[y == 4, 1], s = 100, c = 'magenta', label = 'Cluster 5')  "
      ],
      "metadata": {
        "colab": {
          "base_uri": "https://localhost:8080/",
          "height": 282
        },
        "id": "PCbkqp1mc1RA",
        "outputId": "bc3682b7-daee-4c17-8bde-9ba06c4709b7"
      },
      "execution_count": 52,
      "outputs": [
        {
          "output_type": "execute_result",
          "data": {
            "text/plain": [
              "<matplotlib.collections.PathCollection at 0x7fadd4cc22d0>"
            ]
          },
          "metadata": {},
          "execution_count": 52
        },
        {
          "output_type": "display_data",
          "data": {
            "text/plain": [
              "<Figure size 432x288 with 1 Axes>"
            ],
            "image/png": "[encoded data removed]"
          },
          "metadata": {
            "needs_background": "light"
          }
        }
      ]
    },
    {
      "cell_type": "code",
      "source": [
        "import seaborn as sns\n",
        "sns.distplot(x11)"
      ],
      "metadata": {
        "colab": {
          "base_uri": "https://localhost:8080/",
          "height": 337
        },
        "id": "WVu0MVgNd24V",
        "outputId": "91701b1d-baae-4778-def9-9859f7a54388"
      },
      "execution_count": 45,
      "outputs": [
        {
          "output_type": "stream",
          "name": "stderr",
          "text": [
            "/usr/local/lib/python3.7/dist-packages/seaborn/distributions.py:2619: FutureWarning: `distplot` is a deprecated function and will be removed in a future version. Please adapt your code to use either `displot` (a figure-level function with similar flexibility) or `histplot` (an axes-level function for histograms).\n",
            "  warnings.warn(msg, FutureWarning)\n"
          ]
        },
        {
          "output_type": "execute_result",
          "data": {
            "text/plain": [
              "<matplotlib.axes._subplots.AxesSubplot at 0x7fadd9728f10>"
            ]
          },
          "metadata": {},
          "execution_count": 45
        },
        {
          "output_type": "display_data",
          "data": {
            "text/plain": [
              "<Figure size 432x288 with 1 Axes>"
            ],
            "image/png": "[encoded data removed]"
          },
          "metadata": {
            "needs_background": "light"
          }
        }
      ]
    },
    {
      "cell_type": "markdown",
      "source": [
        "#using DBSCAN algorithm"
      ],
      "metadata": {
        "id": "ljfCJp9z_Pxi"
      }
    },
    {
      "cell_type": "code",
      "source": [
        "from sklearn.cluster import DBSCAN"
      ],
      "metadata": {
        "execution": {
          "iopub.status.busy": "2022-03-13T05:31:35.073112Z",
          "iopub.execute_input": "2022-03-13T05:31:35.073972Z",
          "iopub.status.idle": "2022-03-13T05:31:35.078576Z",
          "shell.execute_reply.started": "2022-03-13T05:31:35.073917Z",
          "shell.execute_reply": "2022-03-13T05:31:35.077987Z"
        },
        "trusted": true,
        "id": "KkwzvlctzmnR"
      },
      "execution_count": 53,
      "outputs": []
    },
    {
      "cell_type": "code",
      "source": [
        "db=DBSCAN(eps=0.2,algorithm='ball_tree',min_samples=3)\n",
        "db.fit(dftrain)"
      ],
      "metadata": {
        "execution": {
          "iopub.status.busy": "2022-03-13T05:31:36.215381Z",
          "iopub.execute_input": "2022-03-13T05:31:36.215666Z",
          "iopub.status.idle": "2022-03-13T05:31:36.504436Z",
          "shell.execute_reply.started": "2022-03-13T05:31:36.215633Z",
          "shell.execute_reply": "2022-03-13T05:31:36.503569Z"
        },
        "trusted": true,
        "colab": {
          "base_uri": "https://localhost:8080/"
        },
        "id": "yQEAZjFlzmnR",
        "outputId": "3dedcfcd-17fa-46eb-fa0f-28dc349b34e7"
      },
      "execution_count": 115,
      "outputs": [
        {
          "output_type": "execute_result",
          "data": {
            "text/plain": [
              "DBSCAN(algorithm='ball_tree', eps=0.2, min_samples=3)"
            ]
          },
          "metadata": {},
          "execution_count": 115
        }
      ]
    },
    {
      "cell_type": "code",
      "source": [
        "x111=db.fit_predict(dftrain)"
      ],
      "metadata": {
        "id": "BVq9nifbhPFg"
      },
      "execution_count": 116,
      "outputs": []
    },
    {
      "cell_type": "code",
      "source": [
        "db_labels=db.labels_"
      ],
      "metadata": {
        "execution": {
          "iopub.status.busy": "2022-03-13T05:31:37.675645Z",
          "iopub.execute_input": "2022-03-13T05:31:37.675961Z",
          "iopub.status.idle": "2022-03-13T05:31:37.680031Z",
          "shell.execute_reply.started": "2022-03-13T05:31:37.675927Z",
          "shell.execute_reply": "2022-03-13T05:31:37.679091Z"
        },
        "trusted": true,
        "id": "CP-m4UOdzmnR"
      },
      "execution_count": 117,
      "outputs": []
    },
    {
      "cell_type": "code",
      "source": [
        "db_labels"
      ],
      "metadata": {
        "execution": {
          "iopub.status.busy": "2022-03-13T05:31:59.985407Z",
          "iopub.execute_input": "2022-03-13T05:31:59.985681Z",
          "iopub.status.idle": "2022-03-13T05:31:59.991120Z",
          "shell.execute_reply.started": "2022-03-13T05:31:59.985648Z",
          "shell.execute_reply": "2022-03-13T05:31:59.990320Z"
        },
        "trusted": true,
        "colab": {
          "base_uri": "https://localhost:8080/"
        },
        "id": "mVKiOSxZzmnS",
        "outputId": "0aaddae1-b23f-4bf7-af83-a7eff0e0e702"
      },
      "execution_count": 118,
      "outputs": [
        {
          "output_type": "execute_result",
          "data": {
            "text/plain": [
              "array([-1, -1, -1, ..., -1, -1, -1])"
            ]
          },
          "metadata": {},
          "execution_count": 118
        }
      ]
    },
    {
      "cell_type": "code",
      "source": [
        "sns.histplot(db_labels)"
      ],
      "metadata": {
        "execution": {
          "iopub.status.busy": "2022-03-13T05:36:48.004699Z",
          "iopub.execute_input": "2022-03-13T05:36:48.004992Z",
          "iopub.status.idle": "2022-03-13T05:36:48.213557Z",
          "shell.execute_reply.started": "2022-03-13T05:36:48.004962Z",
          "shell.execute_reply": "2022-03-13T05:36:48.212968Z"
        },
        "trusted": true,
        "colab": {
          "base_uri": "https://localhost:8080/",
          "height": 286
        },
        "id": "cYC-6SYGzmnS",
        "outputId": "9e3f7652-c905-4b68-c5b4-1a5c38fd6bda"
      },
      "execution_count": 119,
      "outputs": [
        {
          "output_type": "execute_result",
          "data": {
            "text/plain": [
              "<matplotlib.axes._subplots.AxesSubplot at 0x7fadd20df610>"
            ]
          },
          "metadata": {},
          "execution_count": 119
        },
        {
          "output_type": "display_data",
          "data": {
            "text/plain": [
              "<Figure size 432x288 with 1 Axes>"
            ],
            "image/png": "[encoded data removed]"
          },
          "metadata": {}
        }
      ]
    },
    {
      "cell_type": "markdown",
      "source": [
        "for kmeans"
      ],
      "metadata": {
        "id": "LAn6TMY-Fbpp"
      }
    },
    {
      "cell_type": "markdown",
      "source": [
        ""
      ],
      "metadata": {
        "id": "D2ya_axDoTQw"
      }
    },
    {
      "cell_type": "code",
      "source": [
        "from sklearn.metrics import confusion_matrix\n",
        "cm = confusion_matrix(Y,la_k)"
      ],
      "metadata": {
        "id": "lc167PPzzmnS"
      },
      "execution_count": 113,
      "outputs": []
    },
    {
      "cell_type": "code",
      "source": [
        "import seaborn as sns; \n",
        "sns.set()\n",
        "ax = sns.heatmap(cm, annot=True, fmt=\"d\", cmap=\"Blues\")"
      ],
      "metadata": {
        "colab": {
          "base_uri": "https://localhost:8080/",
          "height": 268
        },
        "id": "O92w6qJzzmnS",
        "outputId": "05047da5-0336-4077-e763-f6b968aef646"
      },
      "execution_count": 114,
      "outputs": [
        {
          "output_type": "display_data",
          "data": {
            "text/plain": [
              "<Figure size 432x288 with 2 Axes>"
            ],
            "image/png": "[encoded data removed]"
          },
          "metadata": {}
        }
      ]
    },
    {
      "cell_type": "markdown",
      "source": [
        "for algorithmic clustering"
      ],
      "metadata": {
        "id": "oTRvGAAkGGU5"
      }
    },
    {
      "cell_type": "code",
      "source": [
        "cmh=confusion_matrix(x11,la_h)"
      ],
      "metadata": {
        "id": "PThDBiZWzmnT"
      },
      "execution_count": 62,
      "outputs": []
    },
    {
      "cell_type": "code",
      "source": [
        "ax1=sns.heatmap(cmh,annot=True,fmt='d',cmap=\"Blues\")"
      ],
      "metadata": {
        "colab": {
          "base_uri": "https://localhost:8080/",
          "height": 272
        },
        "id": "N6_81WxVzmnT",
        "outputId": "98e60d87-e69b-41c9-d3d0-df0487ec2bd4"
      },
      "execution_count": 64,
      "outputs": [
        {
          "output_type": "display_data",
          "data": {
            "text/plain": [
              "<Figure size 432x288 with 2 Axes>"
            ],
            "image/png": "[encoded data removed]"
          },
          "metadata": {}
        }
      ]
    },
    {
      "cell_type": "markdown",
      "source": [
        "for DBSCAN clustering"
      ],
      "metadata": {
        "id": "0gbzIvM_hAc4"
      }
    },
    {
      "cell_type": "code",
      "source": [
        "cmd=confusion_matrix(x111,db_labels)"
      ],
      "metadata": {
        "id": "JNGBkusOzmnT"
      },
      "execution_count": 95,
      "outputs": []
    },
    {
      "cell_type": "code",
      "source": [
        "ax1=sns.heatmap(cmd,annot=True,fmt='d',cmap=\"Blues\")"
      ],
      "metadata": {
        "colab": {
          "base_uri": "https://localhost:8080/",
          "height": 268
        },
        "id": "gUzhd43GzmnT",
        "outputId": "5cd99ce0-d6bc-49f2-b193-fa67148876f1"
      },
      "execution_count": 96,
      "outputs": [
        {
          "output_type": "display_data",
          "data": {
            "text/plain": [
              "<Figure size 432x288 with 2 Axes>"
            ],
            "image/png": "[encoded data removed]"
          },
          "metadata": {}
        }
      ]
    },
    {
      "cell_type": "markdown",
      "source": [
        "from the above graph we could clearly say that heraichal algorithmic approach would be best for this customer segment dataset "
      ],
      "metadata": {
        "id": "TORoHtXEjRo1"
      }
    },
    {
      "cell_type": "markdown",
      "source": [
        "Talking about other algorithms to use here DBSCAN was really expected to do more well but it didn't do so and also k mean was not so good with this dataset"
      ],
      "metadata": {
        "id": "nVo-lMovjRjH"
      }
    },
    {
      "cell_type": "markdown",
      "source": [
        "the future algorithm would be using supervised clustering algorithms here and seening who would perform more correctly and accurately"
      ],
      "metadata": {
        "id": "9u6izfFhj1bv"
      }
    },
    {
      "cell_type": "markdown",
      "source": [
        "#key findings"
      ],
      "metadata": {
        "id": "yQvK-fKik5vi"
      }
    },
    {
      "cell_type": "markdown",
      "source": [
        "<list>\n",
        "1. by using ball tree algorithm it is able to segregate the customers based on the different feature which was our objective<br>\n",
        "2. for this segregation it has joined the features in a such form that only comman onces get grouped and chance of error get less\n"
      ],
      "metadata": {
        "id": "Kb4umS5fk9Og"
      }
    },
    {
      "cell_type": "markdown",
      "source": [
        "the basic flaw in this model could be : \n",
        "1. more number of null values,missing values which we countered but could be possible that they were mode or mean instead of median which could affect the model\n",
        "2. less gap in datapoint could make the DBSCAN do poor performance in preidicting and fitting\n",
        "3. to manny feature could lead to overfitting of hirarichal algorithmic clustering\n"
      ],
      "metadata": {
        "id": "9nelMnQpk9M2"
      }
    }
  ]
}
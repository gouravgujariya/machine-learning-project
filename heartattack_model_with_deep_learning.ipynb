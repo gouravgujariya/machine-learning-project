{
  "nbformat": 4,
  "nbformat_minor": 0,
  "metadata": {
    "colab": {
      "name": "heartattack model with deep learning.ipynb",
      "provenance": [],
      "authorship_tag": "ABX9TyObcXIIQJwNbEW2WlXqYrAQ",
      "include_colab_link": true
    },
    "kernelspec": {
      "name": "python3",
      "display_name": "Python 3"
    },
    "language_info": {
      "name": "python"
    }
  },
  "cells": [
    {
      "cell_type": "markdown",
      "metadata": {
        "id": "view-in-github",
        "colab_type": "text"
      },
      "source": [
        "<a href=\"https://colab.research.google.com/github/gouravgujariya/machine-learning-project/blob/main/heartattack_model_with_deep_learning.ipynb\" target=\"_parent\"><img src=\"https://colab.research.google.com/assets/colab-badge.svg\" alt=\"Open In Colab\"/></a>"
      ]
    },
    {
      "cell_type": "code",
      "source": [
        "from google.colab import drive\n",
        "drive.mount('/content/drive')"
      ],
      "metadata": {
        "colab": {
          "base_uri": "https://localhost:8080/"
        },
        "id": "GzMwqVxNC90Z",
        "outputId": "5c08137a-c605-4c8a-ae36-c4abd48930fc"
      },
      "execution_count": 1,
      "outputs": [
        {
          "output_type": "stream",
          "name": "stdout",
          "text": [
            "Mounted at /content/drive\n"
          ]
        }
      ]
    },
    {
      "cell_type": "code",
      "source": [
        "import pandas as pd"
      ],
      "metadata": {
        "id": "cqJvr9RpC-M2"
      },
      "execution_count": 2,
      "outputs": []
    },
    {
      "cell_type": "code",
      "source": [
        "df=pd.read_csv('/content/drive/MyDrive/dataset/heart.csv')"
      ],
      "metadata": {
        "id": "LfJnNNCcFOZN"
      },
      "execution_count": 33,
      "outputs": []
    },
    {
      "cell_type": "code",
      "source": [
        "df.head(3)"
      ],
      "metadata": {
        "colab": {
          "base_uri": "https://localhost:8080/",
          "height": 171
        },
        "id": "Zx2LyvW1FScm",
        "outputId": "689c7b0d-f3d9-433e-9636-dbe687cfb35f"
      },
      "execution_count": 34,
      "outputs": [
        {
          "output_type": "execute_result",
          "data": {
            "text/plain": [
              "   age  sex  cp  trtbps  chol  fbs  restecg  thalachh  exng  oldpeak  slp  \\\n",
              "0   63    1   3     145   233    1        0       150     0      2.3    0   \n",
              "1   37    1   2     130   250    0        1       187     0      3.5    0   \n",
              "2   41    0   1     130   204    0        0       172     0      1.4    2   \n",
              "\n",
              "   caa  thall  output  \n",
              "0    0      1       1  \n",
              "1    0      2       1  \n",
              "2    0      2       1  "
            ],
            "text/html": [
              "\n",
              "  <div id=\"df-2985b10a-94d9-4603-96df-cdd3f80353d7\">\n",
              "    <div class=\"colab-df-container\">\n",
              "      <div>\n",
              "<style scoped>\n",
              "    .dataframe tbody tr th:only-of-type {\n",
              "        vertical-align: middle;\n",
              "    }\n",
              "\n",
              "    .dataframe tbody tr th {\n",
              "        vertical-align: top;\n",
              "    }\n",
              "\n",
              "    .dataframe thead th {\n",
              "        text-align: right;\n",
              "    }\n",
              "</style>\n",
              "<table border=\"1\" class=\"dataframe\">\n",
              "  <thead>\n",
              "    <tr style=\"text-align: right;\">\n",
              "      <th></th>\n",
              "      <th>age</th>\n",
              "      <th>sex</th>\n",
              "      <th>cp</th>\n",
              "      <th>trtbps</th>\n",
              "      <th>chol</th>\n",
              "      <th>fbs</th>\n",
              "      <th>restecg</th>\n",
              "      <th>thalachh</th>\n",
              "      <th>exng</th>\n",
              "      <th>oldpeak</th>\n",
              "      <th>slp</th>\n",
              "      <th>caa</th>\n",
              "      <th>thall</th>\n",
              "      <th>output</th>\n",
              "    </tr>\n",
              "  </thead>\n",
              "  <tbody>\n",
              "    <tr>\n",
              "      <th>0</th>\n",
              "      <td>63</td>\n",
              "      <td>1</td>\n",
              "      <td>3</td>\n",
              "      <td>145</td>\n",
              "      <td>233</td>\n",
              "      <td>1</td>\n",
              "      <td>0</td>\n",
              "      <td>150</td>\n",
              "      <td>0</td>\n",
              "      <td>2.3</td>\n",
              "      <td>0</td>\n",
              "      <td>0</td>\n",
              "      <td>1</td>\n",
              "      <td>1</td>\n",
              "    </tr>\n",
              "    <tr>\n",
              "      <th>1</th>\n",
              "      <td>37</td>\n",
              "      <td>1</td>\n",
              "      <td>2</td>\n",
              "      <td>130</td>\n",
              "      <td>250</td>\n",
              "      <td>0</td>\n",
              "      <td>1</td>\n",
              "      <td>187</td>\n",
              "      <td>0</td>\n",
              "      <td>3.5</td>\n",
              "      <td>0</td>\n",
              "      <td>0</td>\n",
              "      <td>2</td>\n",
              "      <td>1</td>\n",
              "    </tr>\n",
              "    <tr>\n",
              "      <th>2</th>\n",
              "      <td>41</td>\n",
              "      <td>0</td>\n",
              "      <td>1</td>\n",
              "      <td>130</td>\n",
              "      <td>204</td>\n",
              "      <td>0</td>\n",
              "      <td>0</td>\n",
              "      <td>172</td>\n",
              "      <td>0</td>\n",
              "      <td>1.4</td>\n",
              "      <td>2</td>\n",
              "      <td>0</td>\n",
              "      <td>2</td>\n",
              "      <td>1</td>\n",
              "    </tr>\n",
              "  </tbody>\n",
              "</table>\n",
              "</div>\n",
              "      <button class=\"colab-df-convert\" onclick=\"convertToInteractive('df-2985b10a-94d9-4603-96df-cdd3f80353d7')\"\n",
              "              title=\"Convert this dataframe to an interactive table.\"\n",
              "              style=\"display:none;\">\n",
              "        \n",
              "  <svg xmlns=\"http://www.w3.org/2000/svg\" height=\"24px\"viewBox=\"0 0 24 24\"\n",
              "       width=\"24px\">\n",
              "    <path d=\"M0 0h24v24H0V0z\" fill=\"none\"/>\n",
              "    <path d=\"M18.56 5.44l.94 2.06.94-2.06 2.06-.94-2.06-.94-.94-2.06-.94 2.06-2.06.94zm-11 1L8.5 8.5l.94-2.06 2.06-.94-2.06-.94L8.5 2.5l-.94 2.06-2.06.94zm10 10l.94 2.06.94-2.06 2.06-.94-2.06-.94-.94-2.06-.94 2.06-2.06.94z\"/><path d=\"M17.41 7.96l-1.37-1.37c-.4-.4-.92-.59-1.43-.59-.52 0-1.04.2-1.43.59L10.3 9.45l-7.72 7.72c-.78.78-.78 2.05 0 2.83L4 21.41c.39.39.9.59 1.41.59.51 0 1.02-.2 1.41-.59l7.78-7.78 2.81-2.81c.8-.78.8-2.07 0-2.86zM5.41 20L4 18.59l7.72-7.72 1.47 1.35L5.41 20z\"/>\n",
              "  </svg>\n",
              "      </button>\n",
              "      \n",
              "  <style>\n",
              "    .colab-df-container {\n",
              "      display:flex;\n",
              "      flex-wrap:wrap;\n",
              "      gap: 12px;\n",
              "    }\n",
              "\n",
              "    .colab-df-convert {\n",
              "      background-color: #E8F0FE;\n",
              "      border: none;\n",
              "      border-radius: 50%;\n",
              "      cursor: pointer;\n",
              "      display: none;\n",
              "      fill: #1967D2;\n",
              "      height: 32px;\n",
              "      padding: 0 0 0 0;\n",
              "      width: 32px;\n",
              "    }\n",
              "\n",
              "    .colab-df-convert:hover {\n",
              "      background-color: #E2EBFA;\n",
              "      box-shadow: 0px 1px 2px rgba(60, 64, 67, 0.3), 0px 1px 3px 1px rgba(60, 64, 67, 0.15);\n",
              "      fill: #174EA6;\n",
              "    }\n",
              "\n",
              "    [theme=dark] .colab-df-convert {\n",
              "      background-color: #3B4455;\n",
              "      fill: #D2E3FC;\n",
              "    }\n",
              "\n",
              "    [theme=dark] .colab-df-convert:hover {\n",
              "      background-color: #434B5C;\n",
              "      box-shadow: 0px 1px 3px 1px rgba(0, 0, 0, 0.15);\n",
              "      filter: drop-shadow(0px 1px 2px rgba(0, 0, 0, 0.3));\n",
              "      fill: #FFFFFF;\n",
              "    }\n",
              "  </style>\n",
              "\n",
              "      <script>\n",
              "        const buttonEl =\n",
              "          document.querySelector('#df-2985b10a-94d9-4603-96df-cdd3f80353d7 button.colab-df-convert');\n",
              "        buttonEl.style.display =\n",
              "          google.colab.kernel.accessAllowed ? 'block' : 'none';\n",
              "\n",
              "        async function convertToInteractive(key) {\n",
              "          const element = document.querySelector('#df-2985b10a-94d9-4603-96df-cdd3f80353d7');\n",
              "          const dataTable =\n",
              "            await google.colab.kernel.invokeFunction('convertToInteractive',\n",
              "                                                     [key], {});\n",
              "          if (!dataTable) return;\n",
              "\n",
              "          const docLinkHtml = 'Like what you see? Visit the ' +\n",
              "            '<a target=\"_blank\" href=https://colab.research.google.com/notebooks/data_table.ipynb>data table notebook</a>'\n",
              "            + ' to learn more about interactive tables.';\n",
              "          element.innerHTML = '';\n",
              "          dataTable['output_type'] = 'display_data';\n",
              "          await google.colab.output.renderOutput(dataTable, element);\n",
              "          const docLink = document.createElement('div');\n",
              "          docLink.innerHTML = docLinkHtml;\n",
              "          element.appendChild(docLink);\n",
              "        }\n",
              "      </script>\n",
              "    </div>\n",
              "  </div>\n",
              "  "
            ]
          },
          "metadata": {},
          "execution_count": 34
        }
      ]
    },
    {
      "cell_type": "code",
      "source": [
        "df.info()"
      ],
      "metadata": {
        "colab": {
          "base_uri": "https://localhost:8080/"
        },
        "id": "23YXyyz1FUl8",
        "outputId": "f00764b2-ae0d-44a3-a336-7fb13c35639c"
      },
      "execution_count": 35,
      "outputs": [
        {
          "output_type": "stream",
          "name": "stdout",
          "text": [
            "<class 'pandas.core.frame.DataFrame'>\n",
            "RangeIndex: 303 entries, 0 to 302\n",
            "Data columns (total 14 columns):\n",
            " #   Column    Non-Null Count  Dtype  \n",
            "---  ------    --------------  -----  \n",
            " 0   age       303 non-null    int64  \n",
            " 1   sex       303 non-null    int64  \n",
            " 2   cp        303 non-null    int64  \n",
            " 3   trtbps    303 non-null    int64  \n",
            " 4   chol      303 non-null    int64  \n",
            " 5   fbs       303 non-null    int64  \n",
            " 6   restecg   303 non-null    int64  \n",
            " 7   thalachh  303 non-null    int64  \n",
            " 8   exng      303 non-null    int64  \n",
            " 9   oldpeak   303 non-null    float64\n",
            " 10  slp       303 non-null    int64  \n",
            " 11  caa       303 non-null    int64  \n",
            " 12  thall     303 non-null    int64  \n",
            " 13  output    303 non-null    int64  \n",
            "dtypes: float64(1), int64(13)\n",
            "memory usage: 33.3 KB\n"
          ]
        }
      ]
    },
    {
      "cell_type": "code",
      "source": [
        "X=df.drop(['output'],axis=1)\n",
        "Y=df['output']"
      ],
      "metadata": {
        "id": "O_c32LhgG3m9"
      },
      "execution_count": 36,
      "outputs": []
    },
    {
      "cell_type": "code",
      "source": [
        "from sklearn.model_selection import train_test_split"
      ],
      "metadata": {
        "id": "mWCjbJ_X4lDy"
      },
      "execution_count": 37,
      "outputs": []
    },
    {
      "cell_type": "code",
      "source": [
        "xtr,xte,ytr,yte=train_test_split(X,Y,random_state=True,shuffle=True)"
      ],
      "metadata": {
        "id": "5tstbPXt40h2"
      },
      "execution_count": 38,
      "outputs": []
    },
    {
      "cell_type": "code",
      "source": [
        "df.isna().sum()"
      ],
      "metadata": {
        "colab": {
          "base_uri": "https://localhost:8080/"
        },
        "id": "GHZ7uBF64_Fx",
        "outputId": "d0733866-baa7-4d39-e118-838306902ac3"
      },
      "execution_count": 9,
      "outputs": [
        {
          "output_type": "execute_result",
          "data": {
            "text/plain": [
              "age         0\n",
              "sex         0\n",
              "cp          0\n",
              "trtbps      0\n",
              "chol        0\n",
              "fbs         0\n",
              "restecg     0\n",
              "thalachh    0\n",
              "exng        0\n",
              "oldpeak     0\n",
              "slp         0\n",
              "caa         0\n",
              "thall       0\n",
              "output      0\n",
              "dtype: int64"
            ]
          },
          "metadata": {},
          "execution_count": 9
        }
      ]
    },
    {
      "cell_type": "code",
      "source": [
        "from sklearn.preprocessing import StandardScaler\n",
        "ss=StandardScaler()"
      ],
      "metadata": {
        "id": "OHxauJIG5JRC"
      },
      "execution_count": 39,
      "outputs": []
    },
    {
      "cell_type": "code",
      "source": [
        "xtr_ss=ss.fit_transform(xtr)\n",
        "xte_ss=ss.fit_transform(xte)"
      ],
      "metadata": {
        "id": "0AKKC1fJ5sse"
      },
      "execution_count": 40,
      "outputs": []
    },
    {
      "cell_type": "code",
      "source": [
        "import keras\n",
        "from keras.models import Sequential\n",
        "from keras.layers import Dense\n",
        "from keras.layers import Dropout\n",
        " "
      ],
      "metadata": {
        "id": "UZYn0VYL53wY"
      },
      "execution_count": 41,
      "outputs": []
    },
    {
      "cell_type": "code",
      "source": [
        "import tensorflow as tf"
      ],
      "metadata": {
        "id": "mbyOrxxNnXAn"
      },
      "execution_count": 42,
      "outputs": []
    },
    {
      "cell_type": "code",
      "source": [
        "clf=Sequential()\n",
        "clf.add(Dense(units=10,activation='ReLU',input_dim=13))\n",
        "clf.add(Dense(units=1,activation='sigmoid'))\n"
      ],
      "metadata": {
        "id": "7TnRU2S66Pnw"
      },
      "execution_count": 46,
      "outputs": []
    },
    {
      "cell_type": "code",
      "source": [
        "clf.compile(optimizer='Adam',\n",
        "              loss='BinaryCrossentropy',\n",
        "              metrics=['Accuracy'])"
      ],
      "metadata": {
        "id": "yM4ZHVe4mHPJ"
      },
      "execution_count": 47,
      "outputs": []
    },
    {
      "cell_type": "code",
      "source": [
        "clf.fit( xtr,ytr,validation_split=0.33,batch_size=10, epochs=100)"
      ],
      "metadata": {
        "colab": {
          "base_uri": "https://localhost:8080/"
        },
        "id": "RDY8uXlRne_S",
        "outputId": "cb180e42-3b59-4ec4-e690-83be90980d04"
      },
      "execution_count": 48,
      "outputs": [
        {
          "output_type": "stream",
          "name": "stdout",
          "text": [
            "Epoch 1/100\n",
            "16/16 [==============================] - 1s 13ms/step - loss: 55.0247 - Accuracy: 0.5066 - val_loss: 40.0998 - val_Accuracy: 0.6267\n",
            "Epoch 2/100\n",
            "16/16 [==============================] - 0s 4ms/step - loss: 45.8673 - Accuracy: 0.5066 - val_loss: 33.2950 - val_Accuracy: 0.6267\n",
            "Epoch 3/100\n",
            "16/16 [==============================] - 0s 5ms/step - loss: 37.5549 - Accuracy: 0.5066 - val_loss: 26.9858 - val_Accuracy: 0.6267\n",
            "Epoch 4/100\n",
            "16/16 [==============================] - 0s 4ms/step - loss: 29.9777 - Accuracy: 0.5066 - val_loss: 21.7903 - val_Accuracy: 0.6267\n",
            "Epoch 5/100\n",
            "16/16 [==============================] - 0s 4ms/step - loss: 24.4115 - Accuracy: 0.5066 - val_loss: 17.8586 - val_Accuracy: 0.6267\n",
            "Epoch 6/100\n",
            "16/16 [==============================] - 0s 4ms/step - loss: 20.2361 - Accuracy: 0.5066 - val_loss: 15.1663 - val_Accuracy: 0.6267\n",
            "Epoch 7/100\n",
            "16/16 [==============================] - 0s 5ms/step - loss: 17.1097 - Accuracy: 0.5066 - val_loss: 12.8621 - val_Accuracy: 0.6267\n",
            "Epoch 8/100\n",
            "16/16 [==============================] - 0s 4ms/step - loss: 14.2861 - Accuracy: 0.5066 - val_loss: 10.8536 - val_Accuracy: 0.6267\n",
            "Epoch 9/100\n",
            "16/16 [==============================] - 0s 5ms/step - loss: 11.7873 - Accuracy: 0.5066 - val_loss: 8.8065 - val_Accuracy: 0.6267\n",
            "Epoch 10/100\n",
            "16/16 [==============================] - 0s 4ms/step - loss: 9.3465 - Accuracy: 0.5066 - val_loss: 6.9092 - val_Accuracy: 0.6267\n",
            "Epoch 11/100\n",
            "16/16 [==============================] - 0s 5ms/step - loss: 7.0727 - Accuracy: 0.5066 - val_loss: 5.2611 - val_Accuracy: 0.6267\n",
            "Epoch 12/100\n",
            "16/16 [==============================] - 0s 4ms/step - loss: 5.0282 - Accuracy: 0.5000 - val_loss: 3.5612 - val_Accuracy: 0.6000\n",
            "Epoch 13/100\n",
            "16/16 [==============================] - 0s 4ms/step - loss: 3.0680 - Accuracy: 0.5132 - val_loss: 2.4399 - val_Accuracy: 0.5733\n",
            "Epoch 14/100\n",
            "16/16 [==============================] - 0s 4ms/step - loss: 1.9078 - Accuracy: 0.5000 - val_loss: 1.7861 - val_Accuracy: 0.3600\n",
            "Epoch 15/100\n",
            "16/16 [==============================] - 0s 5ms/step - loss: 1.3352 - Accuracy: 0.5132 - val_loss: 1.4001 - val_Accuracy: 0.2800\n",
            "Epoch 16/100\n",
            "16/16 [==============================] - 0s 4ms/step - loss: 1.0604 - Accuracy: 0.5132 - val_loss: 1.1932 - val_Accuracy: 0.2800\n",
            "Epoch 17/100\n",
            "16/16 [==============================] - 0s 4ms/step - loss: 0.9398 - Accuracy: 0.5197 - val_loss: 1.0502 - val_Accuracy: 0.3067\n",
            "Epoch 18/100\n",
            "16/16 [==============================] - 0s 5ms/step - loss: 0.8674 - Accuracy: 0.5197 - val_loss: 0.9553 - val_Accuracy: 0.3200\n",
            "Epoch 19/100\n",
            "16/16 [==============================] - 0s 4ms/step - loss: 0.8168 - Accuracy: 0.5395 - val_loss: 0.9027 - val_Accuracy: 0.3467\n",
            "Epoch 20/100\n",
            "16/16 [==============================] - 0s 4ms/step - loss: 0.7909 - Accuracy: 0.5395 - val_loss: 0.8657 - val_Accuracy: 0.3200\n",
            "Epoch 21/100\n",
            "16/16 [==============================] - 0s 4ms/step - loss: 0.7702 - Accuracy: 0.5395 - val_loss: 0.8323 - val_Accuracy: 0.3467\n",
            "Epoch 22/100\n",
            "16/16 [==============================] - 0s 5ms/step - loss: 0.7550 - Accuracy: 0.5395 - val_loss: 0.8097 - val_Accuracy: 0.3600\n",
            "Epoch 23/100\n",
            "16/16 [==============================] - 0s 5ms/step - loss: 0.7462 - Accuracy: 0.5395 - val_loss: 0.7980 - val_Accuracy: 0.3600\n",
            "Epoch 24/100\n",
            "16/16 [==============================] - 0s 4ms/step - loss: 0.7379 - Accuracy: 0.5329 - val_loss: 0.7889 - val_Accuracy: 0.3733\n",
            "Epoch 25/100\n",
            "16/16 [==============================] - 0s 4ms/step - loss: 0.7324 - Accuracy: 0.5329 - val_loss: 0.7790 - val_Accuracy: 0.3733\n",
            "Epoch 26/100\n",
            "16/16 [==============================] - 0s 4ms/step - loss: 0.7239 - Accuracy: 0.5329 - val_loss: 0.7736 - val_Accuracy: 0.3867\n",
            "Epoch 27/100\n",
            "16/16 [==============================] - 0s 4ms/step - loss: 0.7181 - Accuracy: 0.5395 - val_loss: 0.7673 - val_Accuracy: 0.3867\n",
            "Epoch 28/100\n",
            "16/16 [==============================] - 0s 4ms/step - loss: 0.7130 - Accuracy: 0.5395 - val_loss: 0.7616 - val_Accuracy: 0.4000\n",
            "Epoch 29/100\n",
            "16/16 [==============================] - 0s 4ms/step - loss: 0.7067 - Accuracy: 0.5329 - val_loss: 0.7584 - val_Accuracy: 0.4000\n",
            "Epoch 30/100\n",
            "16/16 [==============================] - 0s 4ms/step - loss: 0.7015 - Accuracy: 0.5329 - val_loss: 0.7549 - val_Accuracy: 0.4000\n",
            "Epoch 31/100\n",
            "16/16 [==============================] - 0s 5ms/step - loss: 0.6950 - Accuracy: 0.5263 - val_loss: 0.7482 - val_Accuracy: 0.4000\n",
            "Epoch 32/100\n",
            "16/16 [==============================] - 0s 5ms/step - loss: 0.6888 - Accuracy: 0.5329 - val_loss: 0.7438 - val_Accuracy: 0.4000\n",
            "Epoch 33/100\n",
            "16/16 [==============================] - 0s 4ms/step - loss: 0.6814 - Accuracy: 0.5329 - val_loss: 0.7395 - val_Accuracy: 0.4000\n",
            "Epoch 34/100\n",
            "16/16 [==============================] - 0s 5ms/step - loss: 0.6748 - Accuracy: 0.5329 - val_loss: 0.7369 - val_Accuracy: 0.4000\n",
            "Epoch 35/100\n",
            "16/16 [==============================] - 0s 4ms/step - loss: 0.6700 - Accuracy: 0.5395 - val_loss: 0.7353 - val_Accuracy: 0.4000\n",
            "Epoch 36/100\n",
            "16/16 [==============================] - 0s 5ms/step - loss: 0.6685 - Accuracy: 0.5395 - val_loss: 0.7320 - val_Accuracy: 0.4000\n",
            "Epoch 37/100\n",
            "16/16 [==============================] - 0s 4ms/step - loss: 0.6663 - Accuracy: 0.5395 - val_loss: 0.7310 - val_Accuracy: 0.4000\n",
            "Epoch 38/100\n",
            "16/16 [==============================] - 0s 5ms/step - loss: 0.6639 - Accuracy: 0.5395 - val_loss: 0.7288 - val_Accuracy: 0.4000\n",
            "Epoch 39/100\n",
            "16/16 [==============================] - 0s 5ms/step - loss: 0.6625 - Accuracy: 0.5395 - val_loss: 0.7264 - val_Accuracy: 0.4000\n",
            "Epoch 40/100\n",
            "16/16 [==============================] - 0s 4ms/step - loss: 0.6609 - Accuracy: 0.5395 - val_loss: 0.7245 - val_Accuracy: 0.4000\n",
            "Epoch 41/100\n",
            "16/16 [==============================] - 0s 6ms/step - loss: 0.6594 - Accuracy: 0.5395 - val_loss: 0.7230 - val_Accuracy: 0.4000\n",
            "Epoch 42/100\n",
            "16/16 [==============================] - 0s 4ms/step - loss: 0.6579 - Accuracy: 0.5395 - val_loss: 0.7215 - val_Accuracy: 0.4133\n",
            "Epoch 43/100\n",
            "16/16 [==============================] - 0s 5ms/step - loss: 0.6568 - Accuracy: 0.5395 - val_loss: 0.7221 - val_Accuracy: 0.4133\n",
            "Epoch 44/100\n",
            "16/16 [==============================] - 0s 4ms/step - loss: 0.6554 - Accuracy: 0.5395 - val_loss: 0.7208 - val_Accuracy: 0.4133\n",
            "Epoch 45/100\n",
            "16/16 [==============================] - 0s 5ms/step - loss: 0.6541 - Accuracy: 0.5461 - val_loss: 0.7205 - val_Accuracy: 0.4133\n",
            "Epoch 46/100\n",
            "16/16 [==============================] - 0s 5ms/step - loss: 0.6535 - Accuracy: 0.5461 - val_loss: 0.7196 - val_Accuracy: 0.4133\n",
            "Epoch 47/100\n",
            "16/16 [==============================] - 0s 5ms/step - loss: 0.6531 - Accuracy: 0.5461 - val_loss: 0.7195 - val_Accuracy: 0.4133\n",
            "Epoch 48/100\n",
            "16/16 [==============================] - 0s 4ms/step - loss: 0.6527 - Accuracy: 0.5461 - val_loss: 0.7191 - val_Accuracy: 0.4133\n",
            "Epoch 49/100\n",
            "16/16 [==============================] - 0s 4ms/step - loss: 0.6526 - Accuracy: 0.5461 - val_loss: 0.7197 - val_Accuracy: 0.4133\n",
            "Epoch 50/100\n",
            "16/16 [==============================] - 0s 4ms/step - loss: 0.6520 - Accuracy: 0.5526 - val_loss: 0.7195 - val_Accuracy: 0.4133\n",
            "Epoch 51/100\n",
            "16/16 [==============================] - 0s 4ms/step - loss: 0.6518 - Accuracy: 0.5526 - val_loss: 0.7206 - val_Accuracy: 0.4133\n",
            "Epoch 52/100\n",
            "16/16 [==============================] - 0s 5ms/step - loss: 0.6516 - Accuracy: 0.5526 - val_loss: 0.7209 - val_Accuracy: 0.4133\n",
            "Epoch 53/100\n",
            "16/16 [==============================] - 0s 4ms/step - loss: 0.6513 - Accuracy: 0.5526 - val_loss: 0.7196 - val_Accuracy: 0.4133\n",
            "Epoch 54/100\n",
            "16/16 [==============================] - 0s 5ms/step - loss: 0.6516 - Accuracy: 0.5526 - val_loss: 0.7180 - val_Accuracy: 0.4133\n",
            "Epoch 55/100\n",
            "16/16 [==============================] - 0s 4ms/step - loss: 0.6512 - Accuracy: 0.5526 - val_loss: 0.7183 - val_Accuracy: 0.4133\n",
            "Epoch 56/100\n",
            "16/16 [==============================] - 0s 5ms/step - loss: 0.6513 - Accuracy: 0.5526 - val_loss: 0.7182 - val_Accuracy: 0.4133\n",
            "Epoch 57/100\n",
            "16/16 [==============================] - 0s 4ms/step - loss: 0.6512 - Accuracy: 0.5526 - val_loss: 0.7171 - val_Accuracy: 0.4133\n",
            "Epoch 58/100\n",
            "16/16 [==============================] - 0s 5ms/step - loss: 0.6510 - Accuracy: 0.5592 - val_loss: 0.7168 - val_Accuracy: 0.4133\n",
            "Epoch 59/100\n",
            "16/16 [==============================] - 0s 4ms/step - loss: 0.6510 - Accuracy: 0.5526 - val_loss: 0.7173 - val_Accuracy: 0.4133\n",
            "Epoch 60/100\n",
            "16/16 [==============================] - 0s 4ms/step - loss: 0.6510 - Accuracy: 0.5592 - val_loss: 0.7161 - val_Accuracy: 0.4133\n",
            "Epoch 61/100\n",
            "16/16 [==============================] - 0s 4ms/step - loss: 0.6512 - Accuracy: 0.5592 - val_loss: 0.7152 - val_Accuracy: 0.4133\n",
            "Epoch 62/100\n",
            "16/16 [==============================] - 0s 5ms/step - loss: 0.6512 - Accuracy: 0.5526 - val_loss: 0.7168 - val_Accuracy: 0.4133\n",
            "Epoch 63/100\n",
            "16/16 [==============================] - 0s 4ms/step - loss: 0.6508 - Accuracy: 0.5526 - val_loss: 0.7154 - val_Accuracy: 0.4133\n",
            "Epoch 64/100\n",
            "16/16 [==============================] - 0s 4ms/step - loss: 0.6507 - Accuracy: 0.5592 - val_loss: 0.7154 - val_Accuracy: 0.4133\n",
            "Epoch 65/100\n",
            "16/16 [==============================] - 0s 4ms/step - loss: 0.6511 - Accuracy: 0.5526 - val_loss: 0.7161 - val_Accuracy: 0.4133\n",
            "Epoch 66/100\n",
            "16/16 [==============================] - 0s 5ms/step - loss: 0.6511 - Accuracy: 0.5658 - val_loss: 0.7094 - val_Accuracy: 0.4000\n",
            "Epoch 67/100\n",
            "16/16 [==============================] - 0s 5ms/step - loss: 0.6517 - Accuracy: 0.5658 - val_loss: 0.7119 - val_Accuracy: 0.4133\n",
            "Epoch 68/100\n",
            "16/16 [==============================] - 0s 4ms/step - loss: 0.6507 - Accuracy: 0.5592 - val_loss: 0.7133 - val_Accuracy: 0.4133\n",
            "Epoch 69/100\n",
            "16/16 [==============================] - 0s 4ms/step - loss: 0.6504 - Accuracy: 0.5592 - val_loss: 0.7134 - val_Accuracy: 0.4133\n",
            "Epoch 70/100\n",
            "16/16 [==============================] - 0s 4ms/step - loss: 0.6505 - Accuracy: 0.5592 - val_loss: 0.7133 - val_Accuracy: 0.4133\n",
            "Epoch 71/100\n",
            "16/16 [==============================] - 0s 5ms/step - loss: 0.6505 - Accuracy: 0.5592 - val_loss: 0.7136 - val_Accuracy: 0.4133\n",
            "Epoch 72/100\n",
            "16/16 [==============================] - 0s 4ms/step - loss: 0.6510 - Accuracy: 0.5526 - val_loss: 0.7156 - val_Accuracy: 0.4133\n",
            "Epoch 73/100\n",
            "16/16 [==============================] - 0s 4ms/step - loss: 0.6510 - Accuracy: 0.5526 - val_loss: 0.7129 - val_Accuracy: 0.4133\n",
            "Epoch 74/100\n",
            "16/16 [==============================] - 0s 4ms/step - loss: 0.6503 - Accuracy: 0.5592 - val_loss: 0.7124 - val_Accuracy: 0.4133\n",
            "Epoch 75/100\n",
            "16/16 [==============================] - 0s 5ms/step - loss: 0.6501 - Accuracy: 0.5592 - val_loss: 0.7124 - val_Accuracy: 0.4133\n",
            "Epoch 76/100\n",
            "16/16 [==============================] - 0s 4ms/step - loss: 0.6500 - Accuracy: 0.5592 - val_loss: 0.7135 - val_Accuracy: 0.4133\n",
            "Epoch 77/100\n",
            "16/16 [==============================] - 0s 4ms/step - loss: 0.6503 - Accuracy: 0.5592 - val_loss: 0.7138 - val_Accuracy: 0.4133\n",
            "Epoch 78/100\n",
            "16/16 [==============================] - 0s 4ms/step - loss: 0.6502 - Accuracy: 0.5592 - val_loss: 0.7142 - val_Accuracy: 0.4133\n",
            "Epoch 79/100\n",
            "16/16 [==============================] - 0s 4ms/step - loss: 0.6501 - Accuracy: 0.5526 - val_loss: 0.7145 - val_Accuracy: 0.4133\n",
            "Epoch 80/100\n",
            "16/16 [==============================] - 0s 5ms/step - loss: 0.6503 - Accuracy: 0.5592 - val_loss: 0.7126 - val_Accuracy: 0.4133\n",
            "Epoch 81/100\n",
            "16/16 [==============================] - 0s 5ms/step - loss: 0.6500 - Accuracy: 0.5592 - val_loss: 0.7133 - val_Accuracy: 0.4133\n",
            "Epoch 82/100\n",
            "16/16 [==============================] - 0s 4ms/step - loss: 0.6500 - Accuracy: 0.5592 - val_loss: 0.7137 - val_Accuracy: 0.4133\n",
            "Epoch 83/100\n",
            "16/16 [==============================] - 0s 4ms/step - loss: 0.6507 - Accuracy: 0.5592 - val_loss: 0.7116 - val_Accuracy: 0.4133\n",
            "Epoch 84/100\n",
            "16/16 [==============================] - 0s 4ms/step - loss: 0.6509 - Accuracy: 0.5526 - val_loss: 0.7168 - val_Accuracy: 0.4133\n",
            "Epoch 85/100\n",
            "16/16 [==============================] - 0s 4ms/step - loss: 0.6502 - Accuracy: 0.5526 - val_loss: 0.7150 - val_Accuracy: 0.4133\n",
            "Epoch 86/100\n",
            "16/16 [==============================] - 0s 4ms/step - loss: 0.6498 - Accuracy: 0.5526 - val_loss: 0.7155 - val_Accuracy: 0.4133\n",
            "Epoch 87/100\n",
            "16/16 [==============================] - 0s 4ms/step - loss: 0.6500 - Accuracy: 0.5592 - val_loss: 0.7129 - val_Accuracy: 0.4133\n",
            "Epoch 88/100\n",
            "16/16 [==============================] - 0s 5ms/step - loss: 0.6500 - Accuracy: 0.5526 - val_loss: 0.7146 - val_Accuracy: 0.4133\n",
            "Epoch 89/100\n",
            "16/16 [==============================] - 0s 4ms/step - loss: 0.6498 - Accuracy: 0.5526 - val_loss: 0.7116 - val_Accuracy: 0.4133\n",
            "Epoch 90/100\n",
            "16/16 [==============================] - 0s 5ms/step - loss: 0.6499 - Accuracy: 0.5592 - val_loss: 0.7121 - val_Accuracy: 0.4133\n",
            "Epoch 91/100\n",
            "16/16 [==============================] - 0s 5ms/step - loss: 0.6494 - Accuracy: 0.5592 - val_loss: 0.7112 - val_Accuracy: 0.4133\n",
            "Epoch 92/100\n",
            "16/16 [==============================] - 0s 5ms/step - loss: 0.6492 - Accuracy: 0.5592 - val_loss: 0.7108 - val_Accuracy: 0.4133\n",
            "Epoch 93/100\n",
            "16/16 [==============================] - 0s 4ms/step - loss: 0.6495 - Accuracy: 0.5592 - val_loss: 0.7115 - val_Accuracy: 0.4133\n",
            "Epoch 94/100\n",
            "16/16 [==============================] - 0s 4ms/step - loss: 0.6497 - Accuracy: 0.5592 - val_loss: 0.7091 - val_Accuracy: 0.4133\n",
            "Epoch 95/100\n",
            "16/16 [==============================] - 0s 4ms/step - loss: 0.6493 - Accuracy: 0.5592 - val_loss: 0.7115 - val_Accuracy: 0.4133\n",
            "Epoch 96/100\n",
            "16/16 [==============================] - 0s 4ms/step - loss: 0.6492 - Accuracy: 0.5592 - val_loss: 0.7120 - val_Accuracy: 0.4133\n",
            "Epoch 97/100\n",
            "16/16 [==============================] - 0s 4ms/step - loss: 0.6491 - Accuracy: 0.5592 - val_loss: 0.7115 - val_Accuracy: 0.4133\n",
            "Epoch 98/100\n",
            "16/16 [==============================] - 0s 4ms/step - loss: 0.6494 - Accuracy: 0.5592 - val_loss: 0.7108 - val_Accuracy: 0.4133\n",
            "Epoch 99/100\n",
            "16/16 [==============================] - 0s 5ms/step - loss: 0.6500 - Accuracy: 0.5526 - val_loss: 0.7140 - val_Accuracy: 0.4133\n",
            "Epoch 100/100\n",
            "16/16 [==============================] - 0s 4ms/step - loss: 0.6495 - Accuracy: 0.5526 - val_loss: 0.7120 - val_Accuracy: 0.4133\n"
          ]
        },
        {
          "output_type": "execute_result",
          "data": {
            "text/plain": [
              "<keras.callbacks.History at 0x7fa0f768d050>"
            ]
          },
          "metadata": {},
          "execution_count": 48
        }
      ]
    },
    {
      "cell_type": "code",
      "source": [
        "ypre=clf.predict(xte)"
      ],
      "metadata": {
        "id": "1enWELSBnxmB"
      },
      "execution_count": 49,
      "outputs": []
    },
    {
      "cell_type": "code",
      "source": [
        "from sklearn.metrics import confusion_matrix"
      ],
      "metadata": {
        "id": "9wA3DOaIoTs2"
      },
      "execution_count": 50,
      "outputs": []
    },
    {
      "cell_type": "code",
      "source": [
        "cm=confusion_matrix(yte,round_off_values)"
      ],
      "metadata": {
        "id": "B71gzOYqoeAc"
      },
      "execution_count": 66,
      "outputs": []
    },
    {
      "cell_type": "code",
      "source": [
        "cm"
      ],
      "metadata": {
        "colab": {
          "base_uri": "https://localhost:8080/"
        },
        "id": "m8Wi6Utl_dTb",
        "outputId": "b7150698-8a42-44db-d9ce-f7126ded8295"
      },
      "execution_count": 67,
      "outputs": [
        {
          "output_type": "execute_result",
          "data": {
            "text/plain": [
              "array([[31,  4],\n",
              "       [33,  8]])"
            ]
          },
          "metadata": {},
          "execution_count": 67
        }
      ]
    },
    {
      "cell_type": "code",
      "source": [
        "import numpy as np"
      ],
      "metadata": {
        "id": "nmj8Y_fY_O-L"
      },
      "execution_count": 63,
      "outputs": []
    },
    {
      "cell_type": "code",
      "source": [
        "round_off_values = np.round_(ypre)"
      ],
      "metadata": {
        "id": "tr1J6TF_oxR2"
      },
      "execution_count": 64,
      "outputs": []
    },
    {
      "cell_type": "code",
      "source": [
        "round_off_values"
      ],
      "metadata": {
        "id": "wy77DF0io1rn"
      },
      "execution_count": null,
      "outputs": []
    },
    {
      "cell_type": "code",
      "source": [
        ""
      ],
      "metadata": {
        "id": "-rXgYGXrBS0P"
      },
      "execution_count": null,
      "outputs": []
    }
  ]
}